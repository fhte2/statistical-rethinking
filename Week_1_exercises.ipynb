{
 "cells": [
  {
   "cell_type": "code",
   "execution_count": 2,
   "id": "5700e662",
   "metadata": {},
   "outputs": [],
   "source": [
    "import arviz as az\n",
    "import matplotlib.pyplot as plt\n",
    "import pandas as pd\n",
    "import numpy as np\n",
    "import pymc3 as pm\n",
    "import scipy.stats as stats"
   ]
  },
  {
   "cell_type": "code",
   "execution_count": 3,
   "id": "21a1ef7a",
   "metadata": {},
   "outputs": [],
   "source": [
    "def posterior_grid_approx(grid_points=5, success=4, tosses=15, prior=\"uniform\"):\n",
    "    \"\"\"\"\"\"\n",
    "    # define grid\n",
    "    p_grid = np.linspace(0, 1, grid_points)\n",
    "\n",
    "    # define prior\n",
    "    if prior == \"uniform\":\n",
    "        prior = np.repeat(5, grid_points)\n",
    "    elif prior == \"truncated\":    \n",
    "        prior = (p_grid >= 0.5).astype(int)\n",
    "    elif prior == \"double_exp\":\n",
    "        prior = np.exp(- 5 * abs(p_grid - 0.5))\n",
    "    else: \n",
    "        print(\"Invalid prior definition\")\n",
    "        return\n",
    "        \n",
    "    # compute likelihood at each point in the grid\n",
    "    likelihood = stats.binom.pmf(success, tosses, p_grid)\n",
    "\n",
    "    # compute product of likelihood and prior\n",
    "    unstd_posterior = likelihood * prior\n",
    "\n",
    "    # standardize the posterior, so it sums to 1\n",
    "    posterior = unstd_posterior / unstd_posterior.sum()\n",
    "    \n",
    "    df = pd.DataFrame({'p_grid': p_grid, 'prior': prior, 'likelihood': likelihood, 'unstd_posterior': unstd_posterior, 'posterior': posterior })\n",
    "    return df"
   ]
  },
  {
   "cell_type": "markdown",
   "id": "925ab2e8",
   "metadata": {},
   "source": [
    " ### Ex. 1"
   ]
  },
  {
   "cell_type": "markdown",
   "id": "e70ec4a0",
   "metadata": {},
   "source": [
    "Suppose the globe tossing data (Chapter 2) had turned out to be 4 water and 11 land. Construct the posterior distribution, using grid approximation. Use the same flat prior as in the book."
   ]
  },
  {
   "cell_type": "code",
   "execution_count": 4,
   "id": "c3cfb05c",
   "metadata": {},
   "outputs": [
    {
     "data": {
      "text/html": [
       "<div>\n",
       "<style scoped>\n",
       "    .dataframe tbody tr th:only-of-type {\n",
       "        vertical-align: middle;\n",
       "    }\n",
       "\n",
       "    .dataframe tbody tr th {\n",
       "        vertical-align: top;\n",
       "    }\n",
       "\n",
       "    .dataframe thead th {\n",
       "        text-align: right;\n",
       "    }\n",
       "</style>\n",
       "<table border=\"1\" class=\"dataframe\">\n",
       "  <thead>\n",
       "    <tr style=\"text-align: right;\">\n",
       "      <th></th>\n",
       "      <th>p_grid</th>\n",
       "      <th>prior</th>\n",
       "      <th>likelihood</th>\n",
       "      <th>unstd_posterior</th>\n",
       "      <th>posterior</th>\n",
       "    </tr>\n",
       "  </thead>\n",
       "  <tbody>\n",
       "    <tr>\n",
       "      <th>0</th>\n",
       "      <td>0.0000</td>\n",
       "      <td>5</td>\n",
       "      <td>0.000000e+00</td>\n",
       "      <td>0.000000e+00</td>\n",
       "      <td>0.000000e+00</td>\n",
       "    </tr>\n",
       "    <tr>\n",
       "      <th>1</th>\n",
       "      <td>0.0001</td>\n",
       "      <td>5</td>\n",
       "      <td>1.364045e-13</td>\n",
       "      <td>6.820223e-13</td>\n",
       "      <td>2.182690e-16</td>\n",
       "    </tr>\n",
       "    <tr>\n",
       "      <th>2</th>\n",
       "      <td>0.0002</td>\n",
       "      <td>5</td>\n",
       "      <td>2.180071e-12</td>\n",
       "      <td>1.090036e-11</td>\n",
       "      <td>3.488463e-15</td>\n",
       "    </tr>\n",
       "    <tr>\n",
       "      <th>3</th>\n",
       "      <td>0.0003</td>\n",
       "      <td>5</td>\n",
       "      <td>1.102447e-11</td>\n",
       "      <td>5.512237e-11</td>\n",
       "      <td>1.764092e-14</td>\n",
       "    </tr>\n",
       "    <tr>\n",
       "      <th>4</th>\n",
       "      <td>0.0004</td>\n",
       "      <td>5</td>\n",
       "      <td>3.480446e-11</td>\n",
       "      <td>1.740223e-10</td>\n",
       "      <td>5.569270e-14</td>\n",
       "    </tr>\n",
       "    <tr>\n",
       "      <th>...</th>\n",
       "      <td>...</td>\n",
       "      <td>...</td>\n",
       "      <td>...</td>\n",
       "      <td>...</td>\n",
       "      <td>...</td>\n",
       "    </tr>\n",
       "    <tr>\n",
       "      <th>9995</th>\n",
       "      <td>0.9996</td>\n",
       "      <td>5</td>\n",
       "      <td>5.722361e-35</td>\n",
       "      <td>2.861180e-34</td>\n",
       "      <td>9.156693e-38</td>\n",
       "    </tr>\n",
       "    <tr>\n",
       "      <th>9996</th>\n",
       "      <td>0.9997</td>\n",
       "      <td>5</td>\n",
       "      <td>2.417814e-36</td>\n",
       "      <td>1.208907e-35</td>\n",
       "      <td>3.868890e-39</td>\n",
       "    </tr>\n",
       "    <tr>\n",
       "      <th>9997</th>\n",
       "      <td>0.9998</td>\n",
       "      <td>5</td>\n",
       "      <td>2.796358e-38</td>\n",
       "      <td>1.398179e-37</td>\n",
       "      <td>4.474621e-41</td>\n",
       "    </tr>\n",
       "    <tr>\n",
       "      <th>9998</th>\n",
       "      <td>0.9999</td>\n",
       "      <td>5</td>\n",
       "      <td>1.365956e-41</td>\n",
       "      <td>6.829779e-41</td>\n",
       "      <td>2.185748e-44</td>\n",
       "    </tr>\n",
       "    <tr>\n",
       "      <th>9999</th>\n",
       "      <td>1.0000</td>\n",
       "      <td>5</td>\n",
       "      <td>0.000000e+00</td>\n",
       "      <td>0.000000e+00</td>\n",
       "      <td>0.000000e+00</td>\n",
       "    </tr>\n",
       "  </tbody>\n",
       "</table>\n",
       "<p>10000 rows × 5 columns</p>\n",
       "</div>"
      ],
      "text/plain": [
       "      p_grid  prior    likelihood  unstd_posterior     posterior\n",
       "0     0.0000      5  0.000000e+00     0.000000e+00  0.000000e+00\n",
       "1     0.0001      5  1.364045e-13     6.820223e-13  2.182690e-16\n",
       "2     0.0002      5  2.180071e-12     1.090036e-11  3.488463e-15\n",
       "3     0.0003      5  1.102447e-11     5.512237e-11  1.764092e-14\n",
       "4     0.0004      5  3.480446e-11     1.740223e-10  5.569270e-14\n",
       "...      ...    ...           ...              ...           ...\n",
       "9995  0.9996      5  5.722361e-35     2.861180e-34  9.156693e-38\n",
       "9996  0.9997      5  2.417814e-36     1.208907e-35  3.868890e-39\n",
       "9997  0.9998      5  2.796358e-38     1.398179e-37  4.474621e-41\n",
       "9998  0.9999      5  1.365956e-41     6.829779e-41  2.185748e-44\n",
       "9999  1.0000      5  0.000000e+00     0.000000e+00  0.000000e+00\n",
       "\n",
       "[10000 rows x 5 columns]"
      ]
     },
     "execution_count": 4,
     "metadata": {},
     "output_type": "execute_result"
    }
   ],
   "source": [
    "df = posterior_grid_approx(grid_points=10000,success=4, tosses=15, prior=\"uniform\")\n",
    "df"
   ]
  },
  {
   "cell_type": "code",
   "execution_count": 6,
   "id": "0379b3c0",
   "metadata": {},
   "outputs": [
    {
     "data": {
      "text/plain": [
       "[<matplotlib.lines.Line2D at 0x7fe6c8644d90>]"
      ]
     },
     "execution_count": 6,
     "metadata": {},
     "output_type": "execute_result"
    },
    {
     "data": {
      "image/png": "[encoded data removed]",
      "text/plain": [
       "<Figure size 432x288 with 1 Axes>"
      ]
     },
     "metadata": {
      "needs_background": "light"
     },
     "output_type": "display_data"
    }
   ],
   "source": [
    "plt.plot(df.p_grid, df.posterior)"
   ]
  },
  {
   "cell_type": "code",
   "execution_count": 19,
   "id": "e5131b75-bd72-4343-ba06-ad5050d0fc2a",
   "metadata": {},
   "outputs": [],
   "source": [
    "samples = np.random.choice(df.p_grid, p=df.posterior, size=10000, replace=True)"
   ]
  },
  {
   "cell_type": "markdown",
   "id": "9778d616",
   "metadata": {},
   "source": [
    "### Ex. 2"
   ]
  },
  {
   "cell_type": "markdown",
   "id": "e5cad10e",
   "metadata": {},
   "source": [
    "Now suppose the data are 4 water and 2 land. Compute the posterior again, but this time use a prior that is zero below p = 0.5 and a constant above p = 0.5. This corresponds to prior information that a majority of the Earth’s surface is water."
   ]
  },
  {
   "cell_type": "code",
   "execution_count": 7,
   "id": "c2ec5cf9",
   "metadata": {},
   "outputs": [
    {
     "data": {
      "text/html": [
       "<div>\n",
       "<style scoped>\n",
       "    .dataframe tbody tr th:only-of-type {\n",
       "        vertical-align: middle;\n",
       "    }\n",
       "\n",
       "    .dataframe tbody tr th {\n",
       "        vertical-align: top;\n",
       "    }\n",
       "\n",
       "    .dataframe thead th {\n",
       "        text-align: right;\n",
       "    }\n",
       "</style>\n",
       "<table border=\"1\" class=\"dataframe\">\n",
       "  <thead>\n",
       "    <tr style=\"text-align: right;\">\n",
       "      <th></th>\n",
       "      <th>p_grid</th>\n",
       "      <th>prior</th>\n",
       "      <th>likelihood</th>\n",
       "      <th>unstd_posterior</th>\n",
       "      <th>posterior</th>\n",
       "    </tr>\n",
       "  </thead>\n",
       "  <tbody>\n",
       "    <tr>\n",
       "      <th>0</th>\n",
       "      <td>0.0000</td>\n",
       "      <td>0</td>\n",
       "      <td>0.000000e+00</td>\n",
       "      <td>0.000000e+00</td>\n",
       "      <td>0.000000e+00</td>\n",
       "    </tr>\n",
       "    <tr>\n",
       "      <th>1</th>\n",
       "      <td>0.0001</td>\n",
       "      <td>0</td>\n",
       "      <td>1.500300e-15</td>\n",
       "      <td>0.000000e+00</td>\n",
       "      <td>0.000000e+00</td>\n",
       "    </tr>\n",
       "    <tr>\n",
       "      <th>2</th>\n",
       "      <td>0.0002</td>\n",
       "      <td>0</td>\n",
       "      <td>2.400000e-14</td>\n",
       "      <td>0.000000e+00</td>\n",
       "      <td>0.000000e+00</td>\n",
       "    </tr>\n",
       "    <tr>\n",
       "      <th>3</th>\n",
       "      <td>0.0003</td>\n",
       "      <td>0</td>\n",
       "      <td>1.214757e-13</td>\n",
       "      <td>0.000000e+00</td>\n",
       "      <td>0.000000e+00</td>\n",
       "    </tr>\n",
       "    <tr>\n",
       "      <th>4</th>\n",
       "      <td>0.0004</td>\n",
       "      <td>0</td>\n",
       "      <td>3.838463e-13</td>\n",
       "      <td>0.000000e+00</td>\n",
       "      <td>0.000000e+00</td>\n",
       "    </tr>\n",
       "    <tr>\n",
       "      <th>...</th>\n",
       "      <td>...</td>\n",
       "      <td>...</td>\n",
       "      <td>...</td>\n",
       "      <td>...</td>\n",
       "      <td>...</td>\n",
       "    </tr>\n",
       "    <tr>\n",
       "      <th>9995</th>\n",
       "      <td>0.9996</td>\n",
       "      <td>1</td>\n",
       "      <td>2.396641e-06</td>\n",
       "      <td>2.396641e-06</td>\n",
       "      <td>2.169298e-09</td>\n",
       "    </tr>\n",
       "    <tr>\n",
       "      <th>9996</th>\n",
       "      <td>0.9997</td>\n",
       "      <td>1</td>\n",
       "      <td>1.348650e-06</td>\n",
       "      <td>1.348650e-06</td>\n",
       "      <td>1.220719e-09</td>\n",
       "    </tr>\n",
       "    <tr>\n",
       "      <th>9997</th>\n",
       "      <td>0.9998</td>\n",
       "      <td>1</td>\n",
       "      <td>5.996400e-07</td>\n",
       "      <td>5.996400e-07</td>\n",
       "      <td>5.427588e-10</td>\n",
       "    </tr>\n",
       "    <tr>\n",
       "      <th>9998</th>\n",
       "      <td>0.9999</td>\n",
       "      <td>1</td>\n",
       "      <td>1.499700e-07</td>\n",
       "      <td>1.499700e-07</td>\n",
       "      <td>1.357440e-10</td>\n",
       "    </tr>\n",
       "    <tr>\n",
       "      <th>9999</th>\n",
       "      <td>1.0000</td>\n",
       "      <td>1</td>\n",
       "      <td>0.000000e+00</td>\n",
       "      <td>0.000000e+00</td>\n",
       "      <td>0.000000e+00</td>\n",
       "    </tr>\n",
       "  </tbody>\n",
       "</table>\n",
       "<p>10000 rows × 5 columns</p>\n",
       "</div>"
      ],
      "text/plain": [
       "      p_grid  prior    likelihood  unstd_posterior     posterior\n",
       "0     0.0000      0  0.000000e+00     0.000000e+00  0.000000e+00\n",
       "1     0.0001      0  1.500300e-15     0.000000e+00  0.000000e+00\n",
       "2     0.0002      0  2.400000e-14     0.000000e+00  0.000000e+00\n",
       "3     0.0003      0  1.214757e-13     0.000000e+00  0.000000e+00\n",
       "4     0.0004      0  3.838463e-13     0.000000e+00  0.000000e+00\n",
       "...      ...    ...           ...              ...           ...\n",
       "9995  0.9996      1  2.396641e-06     2.396641e-06  2.169298e-09\n",
       "9996  0.9997      1  1.348650e-06     1.348650e-06  1.220719e-09\n",
       "9997  0.9998      1  5.996400e-07     5.996400e-07  5.427588e-10\n",
       "9998  0.9999      1  1.499700e-07     1.499700e-07  1.357440e-10\n",
       "9999  1.0000      1  0.000000e+00     0.000000e+00  0.000000e+00\n",
       "\n",
       "[10000 rows x 5 columns]"
      ]
     },
     "execution_count": 7,
     "metadata": {},
     "output_type": "execute_result"
    }
   ],
   "source": [
    "df2 = posterior_grid_approx(grid_points=10000, success=4, tosses=6,prior=\"truncated\")\n",
    "df2"
   ]
  },
  {
   "cell_type": "code",
   "execution_count": 8,
   "id": "e8e1aa7a",
   "metadata": {},
   "outputs": [
    {
     "data": {
      "text/plain": [
       "[<matplotlib.lines.Line2D at 0x7fe6c879d790>]"
      ]
     },
     "execution_count": 8,
     "metadata": {},
     "output_type": "execute_result"
    },
    {
     "data": {
      "image/png": "[encoded data removed]",
      "text/plain": [
       "<Figure size 432x288 with 1 Axes>"
      ]
     },
     "metadata": {
      "needs_background": "light"
     },
     "output_type": "display_data"
    }
   ],
   "source": [
    "plt.plot(df2.p_grid, df2.posterior)"
   ]
  },
  {
   "cell_type": "markdown",
   "id": "4a577207",
   "metadata": {},
   "source": [
    "### Ex. 3"
   ]
  },
  {
   "cell_type": "markdown",
   "id": "ec14330f",
   "metadata": {},
   "source": [
    "For the posterior distribution from 2,compute 89% percentile and HPDI intervals. Compare the widths of these intervals. Which is wider? Why? If you had only the information in the interval, what might you misunderstand about the shape of the posterior distribution?"
   ]
  },
  {
   "cell_type": "code",
   "execution_count": 9,
   "id": "4c2e7597",
   "metadata": {},
   "outputs": [
    {
     "name": "stdout",
     "output_type": "stream",
     "text": [
      "0.5177517751775178 0.891989198919892\n"
     ]
    }
   ],
   "source": [
    "samples = np.random.choice(df2.p_grid, p=df2.posterior, size=10000, replace=True)\n",
    "\n",
    "#percentile\n",
    "low_pi, high_pi = np.percentile(samples, [4, 96])\n",
    "print(low_pi, high_pi)"
   ]
  },
  {
   "cell_type": "code",
   "execution_count": 10,
   "id": "368571c6",
   "metadata": {},
   "outputs": [
    {
     "name": "stdout",
     "output_type": "stream",
     "text": [
      "0.5000500050005001 0.8413841384138414\n"
     ]
    }
   ],
   "source": [
    "#hdi\n",
    "low_hdi, high_hdi = az.hdi(samples, hdi_prob=0.89)\n",
    "print(low_hdi, high_hdi)"
   ]
  },
  {
   "cell_type": "code",
   "execution_count": 12,
   "id": "2cddad77-49b5-43c4-bc64-1fb336a560e3",
   "metadata": {},
   "outputs": [
    {
     "data": {
      "text/plain": [
       "<matplotlib.lines.Line2D at 0x7fe6ac883940>"
      ]
     },
     "execution_count": 12,
     "metadata": {},
     "output_type": "execute_result"
    },
    {
     "data": {
      "image/png": "[encoded data removed]",
      "text/plain": [
       "<Figure size 432x288 with 1 Axes>"
      ]
     },
     "metadata": {
      "needs_background": "light"
     },
     "output_type": "display_data"
    }
   ],
   "source": [
    "az.plot_kde(samples)\n",
    "plt.xlim(.4, 1)\n",
    "\n",
    "plt.axvline(low_hdi, color='r',linestyle='--',alpha=0.3)\n",
    "plt.axvline(high_hdi, color='r',linestyle='--',alpha=0.3)\n",
    "\n",
    "plt.axvline(low_pi, color='b',linestyle='--',alpha=0.3)\n",
    "plt.axvline(high_pi, color='b',linestyle='--',alpha=0.3)"
   ]
  },
  {
   "cell_type": "markdown",
   "id": "a12c413f-a29a-48fe-96e7-1854f03060af",
   "metadata": {},
   "source": [
    "The percentile is misleading because it actually excludes an area (on the very left of the distribution) with high probability density. High density interval gives a more appropriate information about the area with the highest probability density)."
   ]
  }
 ],
 "metadata": {
  "kernelspec": {
   "display_name": "Python 3 (ipykernel)",
   "language": "python",
   "name": "python3"
  },
  "language_info": {
   "codemirror_mode": {
    "name": "ipython",
    "version": 3
   },
   "file_extension": ".py",
   "mimetype": "text/x-python",
   "name": "python",
   "nbconvert_exporter": "python",
   "pygments_lexer": "ipython3",
   "version": "3.9.7"
  }
 },
 "nbformat": 4,
 "nbformat_minor": 5
}
