{
 "cells": [
  {
   "cell_type": "code",
   "execution_count": 3,
   "id": "0b6af2fa-e6a2-4d2d-96f1-428e083774e7",
   "metadata": {},
   "outputs": [
    {
     "name": "stdout",
     "output_type": "stream",
     "text": [
      "Running on pymc3 version 3.11.2\n"
     ]
    }
   ],
   "source": [
    "import numpy as np\n",
    "import pandas as pd\n",
    "\n",
    "import matplotlib.pyplot as plt\n",
    "import seaborn as sns\n",
    "\n",
    "import pymc3 as pm\n",
    "import arviz as az\n",
    "\n",
    "from scipy import stats\n",
    "from scipy.special import expit\n",
    "\n",
    "from theano import tensor as tt\n",
    "\n",
    "from causalgraphicalmodels import CausalGraphicalModel\n",
    "import daft\n",
    "\n",
    "import warnings\n",
    "\n",
    "print('Running on pymc3 version {}'.format(pm.__version__))\n",
    "\n",
    "warnings.filterwarnings('ignore')\n",
    "%config Inline.figure_format = 'retina'\n",
    "az.style.use(\"arviz-darkgrid\")"
   ]
  },
  {
   "cell_type": "code",
   "execution_count": 5,
   "id": "f5b43eb3-b241-494f-9971-eb60450fd3c7",
   "metadata": {},
   "outputs": [
    {
     "name": "stdout",
     "output_type": "stream",
     "text": [
      "The autoreload extension is already loaded. To reload it, use:\n",
      "  %reload_ext autoreload\n"
     ]
    }
   ],
   "source": [
    "%load_ext autoreload\n",
    "%autoreload 2\n",
    "%matplotlib inline\n",
    "\n",
    "pd.options.display.max_columns = None\n",
    "pd.options.display.max_rows = 200"
   ]
  },
  {
   "cell_type": "code",
   "execution_count": 6,
   "id": "004696ef-b118-457a-aabf-24289fd930b5",
   "metadata": {},
   "outputs": [],
   "source": [
    "def standardize(array, reference=None):\n",
    "    if reference is None:\n",
    "        reference = array\n",
    "    return (array - reference.mean()) / reference.std() "
   ]
  },
  {
   "cell_type": "markdown",
   "metadata": {},
   "source": [
    "The data in data(Achehunting) are 14,364 individual hunting trips by 147 men\n",
    "among the indigenous Ach  of Paraguay. Each trip has recorded the hunter’s identity\n",
    "(anonymized id), hunter’s age at the time of the trip, the duration in hours of the\n",
    "trip, and the kilograms of meat returned. Many of the trips have missing values for\n",
    "duration.\n"
   ]
  },
  {
   "cell_type": "markdown",
   "id": "3ab5963a-9ee3-42e6-a52a-b5270857ae45",
   "metadata": {},
   "source": [
    "## Ex. 1"
   ]
  },
  {
   "cell_type": "markdown",
   "metadata": {},
   "source": [
    "In this first problem, estimate the influence of age on the probability of trip success.\n",
    "Define “success” as a trip that returns any non-zero amount of meat. Ignore\n",
    "individual hunter identities for now. You can use any functional relationship for age\n",
    "and success that you think is sensible, but be sure to justify it and check it against\n",
    "posterior predictions."
   ]
  },
  {
   "cell_type": "code",
   "execution_count": 16,
   "id": "65ee5b5c-914a-44da-8d44-6796ef7238ef",
   "metadata": {},
   "outputs": [
    {
     "name": "stdout",
     "output_type": "stream",
     "text": [
      "(14364, 8)\n"
     ]
    },
    {
     "data": {
      "text/html": [
       "<div>\n",
       "<style scoped>\n",
       "    .dataframe tbody tr th:only-of-type {\n",
       "        vertical-align: middle;\n",
       "    }\n",
       "\n",
       "    .dataframe tbody tr th {\n",
       "        vertical-align: top;\n",
       "    }\n",
       "\n",
       "    .dataframe thead th {\n",
       "        text-align: right;\n",
       "    }\n",
       "</style>\n",
       "<table border=\"1\" class=\"dataframe\">\n",
       "  <thead>\n",
       "    <tr style=\"text-align: right;\">\n",
       "      <th></th>\n",
       "      <th>month</th>\n",
       "      <th>day</th>\n",
       "      <th>year</th>\n",
       "      <th>id</th>\n",
       "      <th>age</th>\n",
       "      <th>kg.meat</th>\n",
       "      <th>hours</th>\n",
       "      <th>datatype</th>\n",
       "    </tr>\n",
       "  </thead>\n",
       "  <tbody>\n",
       "    <tr>\n",
       "      <th>0</th>\n",
       "      <td>10</td>\n",
       "      <td>2.0</td>\n",
       "      <td>1981</td>\n",
       "      <td>3043</td>\n",
       "      <td>67</td>\n",
       "      <td>0.0</td>\n",
       "      <td>6.97</td>\n",
       "      <td>1.0</td>\n",
       "    </tr>\n",
       "    <tr>\n",
       "      <th>1</th>\n",
       "      <td>10</td>\n",
       "      <td>3.0</td>\n",
       "      <td>1981</td>\n",
       "      <td>3043</td>\n",
       "      <td>67</td>\n",
       "      <td>0.0</td>\n",
       "      <td>9.00</td>\n",
       "      <td>1.0</td>\n",
       "    </tr>\n",
       "    <tr>\n",
       "      <th>2</th>\n",
       "      <td>10</td>\n",
       "      <td>4.0</td>\n",
       "      <td>1981</td>\n",
       "      <td>3043</td>\n",
       "      <td>67</td>\n",
       "      <td>0.0</td>\n",
       "      <td>1.55</td>\n",
       "      <td>1.0</td>\n",
       "    </tr>\n",
       "    <tr>\n",
       "      <th>3</th>\n",
       "      <td>10</td>\n",
       "      <td>5.0</td>\n",
       "      <td>1981</td>\n",
       "      <td>3043</td>\n",
       "      <td>67</td>\n",
       "      <td>4.5</td>\n",
       "      <td>8.00</td>\n",
       "      <td>1.0</td>\n",
       "    </tr>\n",
       "    <tr>\n",
       "      <th>4</th>\n",
       "      <td>10</td>\n",
       "      <td>6.0</td>\n",
       "      <td>1981</td>\n",
       "      <td>3043</td>\n",
       "      <td>67</td>\n",
       "      <td>0.0</td>\n",
       "      <td>3.00</td>\n",
       "      <td>1.0</td>\n",
       "    </tr>\n",
       "  </tbody>\n",
       "</table>\n",
       "</div>"
      ],
      "text/plain": [
       "   month  day  year    id  age  kg.meat  hours  datatype\n",
       "0     10  2.0  1981  3043   67      0.0   6.97       1.0\n",
       "1     10  3.0  1981  3043   67      0.0   9.00       1.0\n",
       "2     10  4.0  1981  3043   67      0.0   1.55       1.0\n",
       "3     10  5.0  1981  3043   67      4.5   8.00       1.0\n",
       "4     10  6.0  1981  3043   67      0.0   3.00       1.0"
      ]
     },
     "execution_count": 16,
     "metadata": {},
     "output_type": "execute_result"
    }
   ],
   "source": [
    "df = pd.read_csv('data/Achehunting.csv', sep=';')\n",
    "print(df.shape)\n",
    "df.head()"
   ]
  },
  {
   "cell_type": "code",
   "execution_count": 24,
   "metadata": {},
   "outputs": [],
   "source": [
    "df['success'] = np.where(df['kg.meat'] == 0, 0, 1)\n",
    "\n",
    "df.age.min(), df.age.max()\n",
    "\n",
    "df = df.sort_values(by='age')\n",
    "\n",
    "\n",
    "age_id = pd.factorize(df.age)[0]\n",
    "age_id\n",
    "age_idx = pd.factorize(df.age)[1]"
   ]
  },
  {
   "cell_type": "code",
   "execution_count": 26,
   "metadata": {},
   "outputs": [
    {
     "data": {
      "text/html": [
       "<div>\n",
       "<style scoped>\n",
       "    .dataframe tbody tr th:only-of-type {\n",
       "        vertical-align: middle;\n",
       "    }\n",
       "\n",
       "    .dataframe tbody tr th {\n",
       "        vertical-align: top;\n",
       "    }\n",
       "\n",
       "    .dataframe thead th {\n",
       "        text-align: right;\n",
       "    }\n",
       "</style>\n",
       "<table border=\"1\" class=\"dataframe\">\n",
       "  <thead>\n",
       "    <tr style=\"text-align: right;\">\n",
       "      <th></th>\n",
       "      <th>month</th>\n",
       "      <th>day</th>\n",
       "      <th>year</th>\n",
       "      <th>id</th>\n",
       "      <th>age</th>\n",
       "      <th>kg.meat</th>\n",
       "      <th>hours</th>\n",
       "      <th>datatype</th>\n",
       "      <th>success</th>\n",
       "    </tr>\n",
       "  </thead>\n",
       "  <tbody>\n",
       "    <tr>\n",
       "      <th>13891</th>\n",
       "      <td>10</td>\n",
       "      <td>8.0</td>\n",
       "      <td>2000</td>\n",
       "      <td>4189</td>\n",
       "      <td>11</td>\n",
       "      <td>4.5</td>\n",
       "      <td>NaN</td>\n",
       "      <td>3.0</td>\n",
       "      <td>1</td>\n",
       "    </tr>\n",
       "    <tr>\n",
       "      <th>13242</th>\n",
       "      <td>4</td>\n",
       "      <td>26.0</td>\n",
       "      <td>1982</td>\n",
       "      <td>3450</td>\n",
       "      <td>12</td>\n",
       "      <td>0.0</td>\n",
       "      <td>7.1</td>\n",
       "      <td>1.0</td>\n",
       "      <td>0</td>\n",
       "    </tr>\n",
       "    <tr>\n",
       "      <th>13241</th>\n",
       "      <td>4</td>\n",
       "      <td>25.0</td>\n",
       "      <td>1982</td>\n",
       "      <td>3450</td>\n",
       "      <td>12</td>\n",
       "      <td>0.6</td>\n",
       "      <td>7.7</td>\n",
       "      <td>1.0</td>\n",
       "      <td>1</td>\n",
       "    </tr>\n",
       "    <tr>\n",
       "      <th>13240</th>\n",
       "      <td>4</td>\n",
       "      <td>24.0</td>\n",
       "      <td>1982</td>\n",
       "      <td>3450</td>\n",
       "      <td>12</td>\n",
       "      <td>0.0</td>\n",
       "      <td>9.4</td>\n",
       "      <td>1.0</td>\n",
       "      <td>0</td>\n",
       "    </tr>\n",
       "    <tr>\n",
       "      <th>13234</th>\n",
       "      <td>4</td>\n",
       "      <td>18.0</td>\n",
       "      <td>1982</td>\n",
       "      <td>3450</td>\n",
       "      <td>12</td>\n",
       "      <td>0.0</td>\n",
       "      <td>6.7</td>\n",
       "      <td>1.0</td>\n",
       "      <td>0</td>\n",
       "    </tr>\n",
       "  </tbody>\n",
       "</table>\n",
       "</div>"
      ],
      "text/plain": [
       "       month   day  year    id  age  kg.meat  hours  datatype  success\n",
       "13891     10   8.0  2000  4189   11      4.5    NaN       3.0        1\n",
       "13242      4  26.0  1982  3450   12      0.0    7.1       1.0        0\n",
       "13241      4  25.0  1982  3450   12      0.6    7.7       1.0        1\n",
       "13240      4  24.0  1982  3450   12      0.0    9.4       1.0        0\n",
       "13234      4  18.0  1982  3450   12      0.0    6.7       1.0        0"
      ]
     },
     "execution_count": 26,
     "metadata": {},
     "output_type": "execute_result"
    }
   ],
   "source": [
    "df.head()"
   ]
  },
  {
   "cell_type": "markdown",
   "metadata": {},
   "source": [
    "Model definition: \\\n",
    "We will model age effect using a polynomial term."
   ]
  },
  {
   "cell_type": "code",
   "execution_count": 106,
   "metadata": {},
   "outputs": [],
   "source": [
    "#standardize age\n",
    "age_std = standardize(df.age)"
   ]
  },
  {
   "cell_type": "code",
   "execution_count": 117,
   "metadata": {},
   "outputs": [
    {
     "name": "stderr",
     "output_type": "stream",
     "text": [
      "Auto-assigning NUTS sampler...\n",
      "Initializing NUTS using jitter+adapt_diag...\n",
      "Multiprocess sampling (4 chains in 4 jobs)\n",
      "NUTS: [b_age, a]\n"
     ]
    },
    {
     "data": {
      "text/html": [
       "\n",
       "    <div>\n",
       "        <style>\n",
       "            /* Turns off some styling */\n",
       "            progress {\n",
       "                /* gets rid of default border in Firefox and Opera. */\n",
       "                border: none;\n",
       "                /* Needs to be in here for Safari polyfill so background images work as expected. */\n",
       "                background-size: auto;\n",
       "            }\n",
       "            .progress-bar-interrupted, .progress-bar-interrupted::-webkit-progress-bar {\n",
       "                background: #F44336;\n",
       "            }\n",
       "        </style>\n",
       "      <progress value='8000' class='' max='8000' style='width:300px; height:20px; vertical-align: middle;'></progress>\n",
       "      100.00% [8000/8000 00:41<00:00 Sampling 4 chains, 0 divergences]\n",
       "    </div>\n",
       "    "
      ],
      "text/plain": [
       "<IPython.core.display.HTML object>"
      ]
     },
     "metadata": {},
     "output_type": "display_data"
    },
    {
     "name": "stderr",
     "output_type": "stream",
     "text": [
      "Sampling 4 chains for 1_000 tune and 1_000 draw iterations (4_000 + 4_000 draws total) took 60 seconds.\n",
      "The number of effective samples is smaller than 25% for some parameters.\n"
     ]
    }
   ],
   "source": [
    "with pm.Model() as m_9_2:\n",
    "    #intercept\n",
    "    a = pm.Normal(\"a\", 0.0, 1)\n",
    "\n",
    "    #slope for age\n",
    "    b_age =  pm.Normal(\"b_age\", 0.0, 1)\n",
    "\n",
    "    #linear model with link function\n",
    "    p = pm.math.invlogit(a + b_age * (age_std**2))\n",
    "\n",
    "    S = pm.Bernoulli(\"S\", p=p, observed=df['success'])\n",
    "\n",
    "    trace_9_2 = pm.sample(\n",
    "        1000, \n",
    "        tune=1000,\n",
    "        target_accept=0.99)\n",
    "\n",
    "    idata_9_2 = az.from_pymc3(\n",
    "        trace_9_2\n",
    "    )"
   ]
  },
  {
   "cell_type": "code",
   "execution_count": 118,
   "metadata": {},
   "outputs": [
    {
     "data": {
      "text/html": [
       "<div>\n",
       "<style scoped>\n",
       "    .dataframe tbody tr th:only-of-type {\n",
       "        vertical-align: middle;\n",
       "    }\n",
       "\n",
       "    .dataframe tbody tr th {\n",
       "        vertical-align: top;\n",
       "    }\n",
       "\n",
       "    .dataframe thead th {\n",
       "        text-align: right;\n",
       "    }\n",
       "</style>\n",
       "<table border=\"1\" class=\"dataframe\">\n",
       "  <thead>\n",
       "    <tr style=\"text-align: right;\">\n",
       "      <th></th>\n",
       "      <th>mean</th>\n",
       "      <th>sd</th>\n",
       "      <th>hdi_3%</th>\n",
       "      <th>hdi_97%</th>\n",
       "      <th>mcse_mean</th>\n",
       "      <th>mcse_sd</th>\n",
       "      <th>ess_bulk</th>\n",
       "      <th>ess_tail</th>\n",
       "      <th>r_hat</th>\n",
       "    </tr>\n",
       "  </thead>\n",
       "  <tbody>\n",
       "    <tr>\n",
       "      <th>a</th>\n",
       "      <td>0.166</td>\n",
       "      <td>0.022</td>\n",
       "      <td>0.122</td>\n",
       "      <td>0.207</td>\n",
       "      <td>0.001</td>\n",
       "      <td>0.001</td>\n",
       "      <td>929.0</td>\n",
       "      <td>1259.0</td>\n",
       "      <td>1.01</td>\n",
       "    </tr>\n",
       "    <tr>\n",
       "      <th>b_age</th>\n",
       "      <td>-0.262</td>\n",
       "      <td>0.016</td>\n",
       "      <td>-0.293</td>\n",
       "      <td>-0.233</td>\n",
       "      <td>0.001</td>\n",
       "      <td>0.000</td>\n",
       "      <td>818.0</td>\n",
       "      <td>1328.0</td>\n",
       "      <td>1.01</td>\n",
       "    </tr>\n",
       "  </tbody>\n",
       "</table>\n",
       "</div>"
      ],
      "text/plain": [
       "        mean     sd  hdi_3%  hdi_97%  mcse_mean  mcse_sd  ess_bulk  ess_tail  \\\n",
       "a      0.166  0.022   0.122    0.207      0.001    0.001     929.0    1259.0   \n",
       "b_age -0.262  0.016  -0.293   -0.233      0.001    0.000     818.0    1328.0   \n",
       "\n",
       "       r_hat  \n",
       "a       1.01  \n",
       "b_age   1.01  "
      ]
     },
     "execution_count": 118,
     "metadata": {},
     "output_type": "execute_result"
    }
   ],
   "source": [
    "az.summary(idata_9_2)"
   ]
  },
  {
   "cell_type": "code",
   "execution_count": 119,
   "metadata": {},
   "outputs": [],
   "source": [
    "un_age_std = np.unique(age_std)"
   ]
  },
  {
   "cell_type": "code",
   "execution_count": 121,
   "metadata": {},
   "outputs": [],
   "source": [
    "#extract hdis for each datapoint\n",
    "hdi_low = []\n",
    "hdi_high = []\n",
    "for x in un_age_std:\n",
    "    y = az.hdi(expit(trace_9_2['a'] + trace_9_2['b_age']*(x**2)))[0]\n",
    "    z = az.hdi(expit(trace_9_2['a'] + trace_9_2['b_age']*(x**2)))[1]\n",
    "    hdi_low.append(y)\n",
    "    hdi_high.append(z)"
   ]
  },
  {
   "cell_type": "code",
   "execution_count": 124,
   "metadata": {},
   "outputs": [
    {
     "data": {
      "image/png": "[encoded data removed]",
      "text/plain": [
       "<Figure size 576x432 with 1 Axes>"
      ]
     },
     "metadata": {
      "needs_background": "light"
     },
     "output_type": "display_data"
    }
   ],
   "source": [
    "#visualize data and HDIs\n",
    "\n",
    "fig, ax = plt.subplots(figsize=(8, 6))\n",
    "\n",
    "ax.scatter(un_ids, df_grouped['success'], label='raw data') #real data\n",
    "\n",
    "for x,y in zip(un_ids, un_age_std):\n",
    "    ax.scatter(x, expit(trace_9_2['a'].mean() + trace_9_2['b_age'].mean()*(y**2)), color='r', alpha=0.4) # mean predictions\n",
    "\n",
    "for x, lower, upper in zip(un_ids, hdi_low, hdi_high):\n",
    "    ax.plot((x, x), (lower, upper), color='r', alpha=0.4)\n",
    "\n"
   ]
  },
  {
   "cell_type": "code",
   "execution_count": 114,
   "metadata": {},
   "outputs": [
    {
     "data": {
      "text/plain": [
       "0.17552010113715427"
      ]
     },
     "execution_count": 114,
     "metadata": {},
     "output_type": "execute_result"
    }
   ],
   "source": [
    "(expit(trace_9_2['a'].mean() + trace_9_2['b_age'].mean()*y + trace_9_2['b_age'].mean()*(y**2)))"
   ]
  },
  {
   "cell_type": "code",
   "execution_count": 103,
   "metadata": {},
   "outputs": [
    {
     "data": {
      "text/plain": [
       "0.16727325624678452"
      ]
     },
     "execution_count": 103,
     "metadata": {},
     "output_type": "execute_result"
    }
   ],
   "source": [
    "trace_9_2['a'].mean() "
   ]
  },
  {
   "cell_type": "markdown",
   "metadata": {},
   "source": [
    "# Ex. 2"
   ]
  },
  {
   "cell_type": "code",
   "execution_count": 133,
   "metadata": {},
   "outputs": [],
   "source": [
    "id = pd.factorize(df.id)[0]\n",
    "id_idx = pd.factorize(df.id)[1]\n"
   ]
  },
  {
   "cell_type": "code",
   "execution_count": 134,
   "metadata": {},
   "outputs": [
    {
     "name": "stderr",
     "output_type": "stream",
     "text": [
      "Auto-assigning NUTS sampler...\n",
      "Initializing NUTS using jitter+adapt_diag...\n",
      "Multiprocess sampling (4 chains in 4 jobs)\n",
      "NUTS: [b_age, a, sigma_bar, a_bar]\n"
     ]
    },
    {
     "data": {
      "text/html": [
       "\n",
       "    <div>\n",
       "        <style>\n",
       "            /* Turns off some styling */\n",
       "            progress {\n",
       "                /* gets rid of default border in Firefox and Opera. */\n",
       "                border: none;\n",
       "                /* Needs to be in here for Safari polyfill so background images work as expected. */\n",
       "                background-size: auto;\n",
       "            }\n",
       "            .progress-bar-interrupted, .progress-bar-interrupted::-webkit-progress-bar {\n",
       "                background: #F44336;\n",
       "            }\n",
       "        </style>\n",
       "      <progress value='8000' class='' max='8000' style='width:300px; height:20px; vertical-align: middle;'></progress>\n",
       "      100.00% [8000/8000 02:59<00:00 Sampling 4 chains, 0 divergences]\n",
       "    </div>\n",
       "    "
      ],
      "text/plain": [
       "<IPython.core.display.HTML object>"
      ]
     },
     "metadata": {},
     "output_type": "display_data"
    },
    {
     "name": "stderr",
     "output_type": "stream",
     "text": [
      "Sampling 4 chains for 1_000 tune and 1_000 draw iterations (4_000 + 4_000 draws total) took 190 seconds.\n"
     ]
    }
   ],
   "source": [
    "with pm.Model() as m_9_3:\n",
    "    #hyperpriors for individuals\n",
    "    a_bar = pm.Normal(\"a_bar\", 0.0, 1)\n",
    "    sigma_bar = pm.Exponential(\"sigma_bar\", 1)\n",
    "\n",
    "    #priors for individuals\n",
    "    a = pm.Normal(\"a\", a_bar, sigma_bar, shape=len(id_idx))\n",
    "\n",
    "    #age priors\n",
    "    b_age = pm.Normal('b_age', 0, 1)\n",
    "\n",
    "    #linear model with link function\n",
    "    p = pm.math.invlogit(a[id] + b_age * (age_std**2))\n",
    "\n",
    "    S = pm.Bernoulli(\"S\", p=p, observed=df['success'])\n",
    "\n",
    "    trace_9_3 = pm.sample(\n",
    "        1000, \n",
    "        tune=1000,\n",
    "        target_accept=0.99)\n",
    "\n",
    "    idata_9_3 = az.from_pymc3(\n",
    "        trace_9_3\n",
    "    )"
   ]
  },
  {
   "cell_type": "code",
   "execution_count": 136,
   "metadata": {},
   "outputs": [
    {
     "data": {
      "text/html": [
       "<div>\n",
       "<style scoped>\n",
       "    .dataframe tbody tr th:only-of-type {\n",
       "        vertical-align: middle;\n",
       "    }\n",
       "\n",
       "    .dataframe tbody tr th {\n",
       "        vertical-align: top;\n",
       "    }\n",
       "\n",
       "    .dataframe thead th {\n",
       "        text-align: right;\n",
       "    }\n",
       "</style>\n",
       "<table border=\"1\" class=\"dataframe\">\n",
       "  <thead>\n",
       "    <tr style=\"text-align: right;\">\n",
       "      <th></th>\n",
       "      <th>mean</th>\n",
       "      <th>sd</th>\n",
       "      <th>hdi_3%</th>\n",
       "      <th>hdi_97%</th>\n",
       "      <th>mcse_mean</th>\n",
       "      <th>mcse_sd</th>\n",
       "      <th>ess_bulk</th>\n",
       "      <th>ess_tail</th>\n",
       "      <th>r_hat</th>\n",
       "    </tr>\n",
       "  </thead>\n",
       "  <tbody>\n",
       "    <tr>\n",
       "      <th>a_bar</th>\n",
       "      <td>0.022</td>\n",
       "      <td>0.070</td>\n",
       "      <td>-0.109</td>\n",
       "      <td>0.150</td>\n",
       "      <td>0.002</td>\n",
       "      <td>0.001</td>\n",
       "      <td>1289.0</td>\n",
       "      <td>2677.0</td>\n",
       "      <td>1.0</td>\n",
       "    </tr>\n",
       "    <tr>\n",
       "      <th>b_age</th>\n",
       "      <td>-0.291</td>\n",
       "      <td>0.023</td>\n",
       "      <td>-0.332</td>\n",
       "      <td>-0.245</td>\n",
       "      <td>0.001</td>\n",
       "      <td>0.001</td>\n",
       "      <td>1076.0</td>\n",
       "      <td>2164.0</td>\n",
       "      <td>1.0</td>\n",
       "    </tr>\n",
       "    <tr>\n",
       "      <th>sigma_bar</th>\n",
       "      <td>0.576</td>\n",
       "      <td>0.057</td>\n",
       "      <td>0.469</td>\n",
       "      <td>0.681</td>\n",
       "      <td>0.002</td>\n",
       "      <td>0.001</td>\n",
       "      <td>1443.0</td>\n",
       "      <td>2121.0</td>\n",
       "      <td>1.0</td>\n",
       "    </tr>\n",
       "  </tbody>\n",
       "</table>\n",
       "</div>"
      ],
      "text/plain": [
       "            mean     sd  hdi_3%  hdi_97%  mcse_mean  mcse_sd  ess_bulk  \\\n",
       "a_bar      0.022  0.070  -0.109    0.150      0.002    0.001    1289.0   \n",
       "b_age     -0.291  0.023  -0.332   -0.245      0.001    0.001    1076.0   \n",
       "sigma_bar  0.576  0.057   0.469    0.681      0.002    0.001    1443.0   \n",
       "\n",
       "           ess_tail  r_hat  \n",
       "a_bar        2677.0    1.0  \n",
       "b_age        2164.0    1.0  \n",
       "sigma_bar    2121.0    1.0  "
      ]
     },
     "execution_count": 136,
     "metadata": {},
     "output_type": "execute_result"
    }
   ],
   "source": [
    "az.summary(idata_9_3, var_names=['a_bar', 'b_age','sigma_bar'])"
   ]
  },
  {
   "cell_type": "markdown",
   "metadata": {},
   "source": [
    "We observe substantial differences among individuals (large sigma bar), so a lot of the variation in success seems to be attributed to individual differences."
   ]
  },
  {
   "cell_type": "code",
   "execution_count": 141,
   "metadata": {},
   "outputs": [
    {
     "name": "stderr",
     "output_type": "stream",
     "text": [
      "Auto-assigning NUTS sampler...\n",
      "Initializing NUTS using jitter+adapt_diag...\n",
      "Multiprocess sampling (4 chains in 4 jobs)\n",
      "NUTS: [ab_individual, b, a, chol]\n"
     ]
    },
    {
     "data": {
      "text/html": [
       "\n",
       "    <div>\n",
       "        <style>\n",
       "            /* Turns off some styling */\n",
       "            progress {\n",
       "                /* gets rid of default border in Firefox and Opera. */\n",
       "                border: none;\n",
       "                /* Needs to be in here for Safari polyfill so background images work as expected. */\n",
       "                background-size: auto;\n",
       "            }\n",
       "            .progress-bar-interrupted, .progress-bar-interrupted::-webkit-progress-bar {\n",
       "                background: #F44336;\n",
       "            }\n",
       "        </style>\n",
       "      <progress value='8000' class='' max='8000' style='width:300px; height:20px; vertical-align: middle;'></progress>\n",
       "      100.00% [8000/8000 24:51<00:00 Sampling 4 chains, 0 divergences]\n",
       "    </div>\n",
       "    "
      ],
      "text/plain": [
       "<IPython.core.display.HTML object>"
      ]
     },
     "metadata": {},
     "output_type": "display_data"
    },
    {
     "name": "stderr",
     "output_type": "stream",
     "text": [
      "Sampling 4 chains for 1_000 tune and 1_000 draw iterations (4_000 + 4_000 draws total) took 1505 seconds.\n",
      "The number of effective samples is smaller than 10% for some parameters.\n"
     ]
    }
   ],
   "source": [
    "#correlated varying effects\n",
    "\n",
    "with pm.Model() as m_9_4_centered:\n",
    "    #prior stddev in intercepts and slopes (variation accross districts)\n",
    "    sd_dist = pm.Exponential.dist(0.5)\n",
    "\n",
    "    # get back standard deviations and rho:\n",
    "    chol, corr, stds = pm.LKJCholeskyCov(\"chol\", n=2, eta=2.0, sd_dist=sd_dist, compute_corr=True)\n",
    "\n",
    "    #prior for average intercept (probability of each individual)\n",
    "    a = pm.Normal(\"a\", mu=0, sd=1.5)\n",
    "\n",
    "    #prior for average slope (variation by age)\n",
    "    b = pm.Normal(\"b\", mu=0, sd=1)\n",
    "\n",
    "    # population of varying effects\n",
    "    ab_individual = pm.MvNormal(\n",
    "        \"ab_individual\", mu=tt.stack([a, b]), chol=chol, shape=(len(id_idx), 2))\n",
    "    \n",
    "    # shape needs to be (number of individuals, 2) because we're getting back both a and b for each individual\n",
    "\n",
    "    # link function\n",
    "\n",
    "    p = pm.Deterministic(\n",
    "        \"p\",\n",
    "        pm.math.invlogit(\n",
    "            ab_individual[id, 0] + ab_individual[id, 1] * (age_std**2)\n",
    "        ),\n",
    "    )\n",
    "\n",
    "    c = pm.Bernoulli(\"c\", p=p, observed=df['success'])\n",
    "\n",
    "    trace_9_4 = pm.sample(\n",
    "        1000, \n",
    "        tune=1000,\n",
    "        target_accept=0.99)\n",
    "\n",
    "    idata_9_4 = az.from_pymc3(\n",
    "        trace_9_4\n",
    "    )\n"
   ]
  },
  {
   "cell_type": "code",
   "execution_count": 143,
   "metadata": {},
   "outputs": [
    {
     "data": {
      "text/html": [
       "<div>\n",
       "<style scoped>\n",
       "    .dataframe tbody tr th:only-of-type {\n",
       "        vertical-align: middle;\n",
       "    }\n",
       "\n",
       "    .dataframe tbody tr th {\n",
       "        vertical-align: top;\n",
       "    }\n",
       "\n",
       "    .dataframe thead th {\n",
       "        text-align: right;\n",
       "    }\n",
       "</style>\n",
       "<table border=\"1\" class=\"dataframe\">\n",
       "  <thead>\n",
       "    <tr style=\"text-align: right;\">\n",
       "      <th></th>\n",
       "      <th>mean</th>\n",
       "      <th>sd</th>\n",
       "      <th>hdi_3%</th>\n",
       "      <th>hdi_97%</th>\n",
       "      <th>mcse_mean</th>\n",
       "      <th>mcse_sd</th>\n",
       "      <th>ess_bulk</th>\n",
       "      <th>ess_tail</th>\n",
       "      <th>r_hat</th>\n",
       "    </tr>\n",
       "  </thead>\n",
       "  <tbody>\n",
       "    <tr>\n",
       "      <th>a</th>\n",
       "      <td>0.00</td>\n",
       "      <td>0.09</td>\n",
       "      <td>-0.16</td>\n",
       "      <td>0.16</td>\n",
       "      <td>0.00</td>\n",
       "      <td>0.0</td>\n",
       "      <td>2592.55</td>\n",
       "      <td>3232.53</td>\n",
       "      <td>1.00</td>\n",
       "    </tr>\n",
       "    <tr>\n",
       "      <th>b</th>\n",
       "      <td>-0.27</td>\n",
       "      <td>0.04</td>\n",
       "      <td>-0.35</td>\n",
       "      <td>-0.20</td>\n",
       "      <td>0.00</td>\n",
       "      <td>0.0</td>\n",
       "      <td>1901.31</td>\n",
       "      <td>2318.61</td>\n",
       "      <td>1.00</td>\n",
       "    </tr>\n",
       "    <tr>\n",
       "      <th>chol_stds[0]</th>\n",
       "      <td>0.68</td>\n",
       "      <td>0.08</td>\n",
       "      <td>0.54</td>\n",
       "      <td>0.83</td>\n",
       "      <td>0.00</td>\n",
       "      <td>0.0</td>\n",
       "      <td>917.40</td>\n",
       "      <td>1599.10</td>\n",
       "      <td>1.00</td>\n",
       "    </tr>\n",
       "    <tr>\n",
       "      <th>chol_stds[1]</th>\n",
       "      <td>0.25</td>\n",
       "      <td>0.05</td>\n",
       "      <td>0.16</td>\n",
       "      <td>0.34</td>\n",
       "      <td>0.00</td>\n",
       "      <td>0.0</td>\n",
       "      <td>369.30</td>\n",
       "      <td>507.47</td>\n",
       "      <td>1.01</td>\n",
       "    </tr>\n",
       "    <tr>\n",
       "      <th>chol_corr[0, 0]</th>\n",
       "      <td>1.00</td>\n",
       "      <td>0.00</td>\n",
       "      <td>1.00</td>\n",
       "      <td>1.00</td>\n",
       "      <td>0.00</td>\n",
       "      <td>0.0</td>\n",
       "      <td>4000.00</td>\n",
       "      <td>4000.00</td>\n",
       "      <td>NaN</td>\n",
       "    </tr>\n",
       "    <tr>\n",
       "      <th>chol_corr[0, 1]</th>\n",
       "      <td>-0.56</td>\n",
       "      <td>0.14</td>\n",
       "      <td>-0.80</td>\n",
       "      <td>-0.29</td>\n",
       "      <td>0.01</td>\n",
       "      <td>0.0</td>\n",
       "      <td>765.24</td>\n",
       "      <td>1543.66</td>\n",
       "      <td>1.00</td>\n",
       "    </tr>\n",
       "    <tr>\n",
       "      <th>chol_corr[1, 0]</th>\n",
       "      <td>-0.56</td>\n",
       "      <td>0.14</td>\n",
       "      <td>-0.80</td>\n",
       "      <td>-0.29</td>\n",
       "      <td>0.01</td>\n",
       "      <td>0.0</td>\n",
       "      <td>765.24</td>\n",
       "      <td>1543.66</td>\n",
       "      <td>1.00</td>\n",
       "    </tr>\n",
       "    <tr>\n",
       "      <th>chol_corr[1, 1]</th>\n",
       "      <td>1.00</td>\n",
       "      <td>0.00</td>\n",
       "      <td>1.00</td>\n",
       "      <td>1.00</td>\n",
       "      <td>0.00</td>\n",
       "      <td>0.0</td>\n",
       "      <td>4220.19</td>\n",
       "      <td>3826.99</td>\n",
       "      <td>1.00</td>\n",
       "    </tr>\n",
       "  </tbody>\n",
       "</table>\n",
       "</div>"
      ],
      "text/plain": [
       "                 mean    sd  hdi_3%  hdi_97%  mcse_mean  mcse_sd  ess_bulk  \\\n",
       "a                0.00  0.09   -0.16     0.16       0.00      0.0   2592.55   \n",
       "b               -0.27  0.04   -0.35    -0.20       0.00      0.0   1901.31   \n",
       "chol_stds[0]     0.68  0.08    0.54     0.83       0.00      0.0    917.40   \n",
       "chol_stds[1]     0.25  0.05    0.16     0.34       0.00      0.0    369.30   \n",
       "chol_corr[0, 0]  1.00  0.00    1.00     1.00       0.00      0.0   4000.00   \n",
       "chol_corr[0, 1] -0.56  0.14   -0.80    -0.29       0.01      0.0    765.24   \n",
       "chol_corr[1, 0] -0.56  0.14   -0.80    -0.29       0.01      0.0    765.24   \n",
       "chol_corr[1, 1]  1.00  0.00    1.00     1.00       0.00      0.0   4220.19   \n",
       "\n",
       "                 ess_tail  r_hat  \n",
       "a                 3232.53   1.00  \n",
       "b                 2318.61   1.00  \n",
       "chol_stds[0]      1599.10   1.00  \n",
       "chol_stds[1]       507.47   1.01  \n",
       "chol_corr[0, 0]   4000.00    NaN  \n",
       "chol_corr[0, 1]   1543.66   1.00  \n",
       "chol_corr[1, 0]   1543.66   1.00  \n",
       "chol_corr[1, 1]   3826.99   1.00  "
      ]
     },
     "execution_count": 143,
     "metadata": {},
     "output_type": "execute_result"
    }
   ],
   "source": [
    "with m_9_4_centered:\n",
    "    sum = az.summary(idata_9_4,var_names=['a','b','chol_stds','chol_corr'],round_to=2)\n",
    "sum  "
   ]
  },
  {
   "cell_type": "code",
   "execution_count": 142,
   "metadata": {},
   "outputs": [
    {
     "name": "stderr",
     "output_type": "stream",
     "text": [
      "Got error No model on context stack. trying to find log_likelihood in translation.\n",
      "Got error No model on context stack. trying to find log_likelihood in translation.\n",
      "Got error No model on context stack. trying to find log_likelihood in translation.\n"
     ]
    },
    {
     "data": {
      "text/html": [
       "<div>\n",
       "<style scoped>\n",
       "    .dataframe tbody tr th:only-of-type {\n",
       "        vertical-align: middle;\n",
       "    }\n",
       "\n",
       "    .dataframe tbody tr th {\n",
       "        vertical-align: top;\n",
       "    }\n",
       "\n",
       "    .dataframe thead th {\n",
       "        text-align: right;\n",
       "    }\n",
       "</style>\n",
       "<table border=\"1\" class=\"dataframe\">\n",
       "  <thead>\n",
       "    <tr style=\"text-align: right;\">\n",
       "      <th></th>\n",
       "      <th>rank</th>\n",
       "      <th>loo</th>\n",
       "      <th>p_loo</th>\n",
       "      <th>d_loo</th>\n",
       "      <th>weight</th>\n",
       "      <th>se</th>\n",
       "      <th>dse</th>\n",
       "      <th>warning</th>\n",
       "      <th>loo_scale</th>\n",
       "    </tr>\n",
       "  </thead>\n",
       "  <tbody>\n",
       "    <tr>\n",
       "      <th>polynom with cov</th>\n",
       "      <td>0</td>\n",
       "      <td>-9459.068250</td>\n",
       "      <td>115.345880</td>\n",
       "      <td>0.000000</td>\n",
       "      <td>0.998286</td>\n",
       "      <td>30.303781</td>\n",
       "      <td>0.000000</td>\n",
       "      <td>False</td>\n",
       "      <td>log</td>\n",
       "    </tr>\n",
       "    <tr>\n",
       "      <th>polynom with ind</th>\n",
       "      <td>1</td>\n",
       "      <td>-9482.222303</td>\n",
       "      <td>85.648200</td>\n",
       "      <td>23.154053</td>\n",
       "      <td>0.000000</td>\n",
       "      <td>29.402625</td>\n",
       "      <td>6.458657</td>\n",
       "      <td>False</td>\n",
       "      <td>log</td>\n",
       "    </tr>\n",
       "    <tr>\n",
       "      <th>polynom</th>\n",
       "      <td>2</td>\n",
       "      <td>-9800.113304</td>\n",
       "      <td>1.896189</td>\n",
       "      <td>341.045054</td>\n",
       "      <td>0.001714</td>\n",
       "      <td>17.088570</td>\n",
       "      <td>25.305658</td>\n",
       "      <td>False</td>\n",
       "      <td>log</td>\n",
       "    </tr>\n",
       "  </tbody>\n",
       "</table>\n",
       "</div>"
      ],
      "text/plain": [
       "                  rank          loo       p_loo       d_loo    weight  \\\n",
       "polynom with cov     0 -9459.068250  115.345880    0.000000  0.998286   \n",
       "polynom with ind     1 -9482.222303   85.648200   23.154053  0.000000   \n",
       "polynom              2 -9800.113304    1.896189  341.045054  0.001714   \n",
       "\n",
       "                         se        dse  warning loo_scale  \n",
       "polynom with cov  30.303781   0.000000    False       log  \n",
       "polynom with ind  29.402625   6.458657    False       log  \n",
       "polynom           17.088570  25.305658    False       log  "
      ]
     },
     "execution_count": 142,
     "metadata": {},
     "output_type": "execute_result"
    }
   ],
   "source": [
    "df_comp_loo = az.compare(\n",
    "    {\n",
    "        \"polynom\": trace_9_2, \n",
    "        \"polynom with ind\": trace_9_3,\n",
    "        \"polynom with cov\": trace_9_4,\n",
    "\n",
    "        }\n",
    "        )\n",
    "df_comp_loo"
   ]
  },
  {
   "cell_type": "code",
   "execution_count": null,
   "metadata": {},
   "outputs": [],
   "source": []
  }
 ],
 "metadata": {
  "interpreter": {
   "hash": "6f90b4276c590783c7a07511109bf4719a0a3e6c83f54b45385e5346de3d0c98"
  },
  "kernelspec": {
   "display_name": "Python 3.9.7 ('pymc3_env')",
   "language": "python",
   "name": "python3"
  },
  "language_info": {
   "codemirror_mode": {
    "name": "ipython",
    "version": 3
   },
   "file_extension": ".py",
   "mimetype": "text/x-python",
   "name": "python",
   "nbconvert_exporter": "python",
   "pygments_lexer": "ipython3",
   "version": "3.9.7"
  },
  "orig_nbformat": 4
 },
 "nbformat": 4,
 "nbformat_minor": 2
}
