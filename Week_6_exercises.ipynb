{
 "cells": [
  {
   "cell_type": "code",
   "execution_count": 2,
   "id": "0b6af2fa-e6a2-4d2d-96f1-428e083774e7",
   "metadata": {},
   "outputs": [
    {
     "name": "stdout",
     "output_type": "stream",
     "text": [
      "Running on pymc3 version 3.11.2\n"
     ]
    }
   ],
   "source": [
    "import numpy as np\n",
    "import pandas as pd\n",
    "\n",
    "import matplotlib.pyplot as plt\n",
    "import seaborn as sns\n",
    "\n",
    "import pymc3 as pm\n",
    "import arviz as az\n",
    "\n",
    "from scipy import stats\n",
    "from scipy.special import expit\n",
    "\n",
    "\n",
    "from causalgraphicalmodels import CausalGraphicalModel\n",
    "import daft\n",
    "\n",
    "import warnings\n",
    "\n",
    "print('Running on pymc3 version {}'.format(pm.__version__))\n",
    "\n",
    "warnings.filterwarnings('ignore')\n",
    "%config Inline.figure_format = 'retina'\n",
    "az.style.use(\"arviz-darkgrid\")"
   ]
  },
  {
   "cell_type": "code",
   "execution_count": 3,
   "id": "f5b43eb3-b241-494f-9971-eb60450fd3c7",
   "metadata": {},
   "outputs": [],
   "source": [
    "%load_ext autoreload\n",
    "%autoreload 2\n",
    "%matplotlib inline\n",
    "\n",
    "pd.options.display.max_columns = None\n",
    "pd.options.display.max_rows = 200"
   ]
  },
  {
   "cell_type": "code",
   "execution_count": 4,
   "id": "004696ef-b118-457a-aabf-24289fd930b5",
   "metadata": {},
   "outputs": [],
   "source": [
    "def standardize(array, reference=None):\n",
    "    if reference is None:\n",
    "        reference = array\n",
    "    return (array - reference.mean()) / reference.std() "
   ]
  },
  {
   "cell_type": "markdown",
   "id": "3ab5963a-9ee3-42e6-a52a-b5270857ae45",
   "metadata": {},
   "source": [
    "## Ex. 1"
   ]
  },
  {
   "cell_type": "markdown",
   "metadata": {},
   "source": [
    "Conduct a prior predictive simulation for the Reedfrog model.\n",
    "How does increasing the width of the prior on σ change the prior distribution of αj? You might try Exponential(10) and Exponential(0.1) for example"
   ]
  },
  {
   "cell_type": "code",
   "execution_count": 5,
   "id": "65ee5b5c-914a-44da-8d44-6796ef7238ef",
   "metadata": {},
   "outputs": [
    {
     "name": "stdout",
     "output_type": "stream",
     "text": [
      "(48, 5)\n"
     ]
    },
    {
     "data": {
      "text/html": [
       "<div>\n",
       "<style scoped>\n",
       "    .dataframe tbody tr th:only-of-type {\n",
       "        vertical-align: middle;\n",
       "    }\n",
       "\n",
       "    .dataframe tbody tr th {\n",
       "        vertical-align: top;\n",
       "    }\n",
       "\n",
       "    .dataframe thead th {\n",
       "        text-align: right;\n",
       "    }\n",
       "</style>\n",
       "<table border=\"1\" class=\"dataframe\">\n",
       "  <thead>\n",
       "    <tr style=\"text-align: right;\">\n",
       "      <th></th>\n",
       "      <th>density</th>\n",
       "      <th>pred</th>\n",
       "      <th>size</th>\n",
       "      <th>surv</th>\n",
       "      <th>propsurv</th>\n",
       "    </tr>\n",
       "  </thead>\n",
       "  <tbody>\n",
       "    <tr>\n",
       "      <th>0</th>\n",
       "      <td>10</td>\n",
       "      <td>no</td>\n",
       "      <td>big</td>\n",
       "      <td>9</td>\n",
       "      <td>0.9</td>\n",
       "    </tr>\n",
       "    <tr>\n",
       "      <th>1</th>\n",
       "      <td>10</td>\n",
       "      <td>no</td>\n",
       "      <td>big</td>\n",
       "      <td>10</td>\n",
       "      <td>1.0</td>\n",
       "    </tr>\n",
       "    <tr>\n",
       "      <th>2</th>\n",
       "      <td>10</td>\n",
       "      <td>no</td>\n",
       "      <td>big</td>\n",
       "      <td>7</td>\n",
       "      <td>0.7</td>\n",
       "    </tr>\n",
       "    <tr>\n",
       "      <th>3</th>\n",
       "      <td>10</td>\n",
       "      <td>no</td>\n",
       "      <td>big</td>\n",
       "      <td>10</td>\n",
       "      <td>1.0</td>\n",
       "    </tr>\n",
       "    <tr>\n",
       "      <th>4</th>\n",
       "      <td>10</td>\n",
       "      <td>no</td>\n",
       "      <td>small</td>\n",
       "      <td>9</td>\n",
       "      <td>0.9</td>\n",
       "    </tr>\n",
       "  </tbody>\n",
       "</table>\n",
       "</div>"
      ],
      "text/plain": [
       "   density pred   size  surv  propsurv\n",
       "0       10   no    big     9       0.9\n",
       "1       10   no    big    10       1.0\n",
       "2       10   no    big     7       0.7\n",
       "3       10   no    big    10       1.0\n",
       "4       10   no  small     9       0.9"
      ]
     },
     "execution_count": 5,
     "metadata": {},
     "output_type": "execute_result"
    }
   ],
   "source": [
    "df = pd.read_csv('data/reedfrogs.csv', sep=',')\n",
    "print(df.shape)\n",
    "df.head()"
   ]
  },
  {
   "cell_type": "code",
   "execution_count": 6,
   "metadata": {},
   "outputs": [],
   "source": [
    "tank = np.arange(df.shape[0])\n",
    "n_tanks = df.shape[0]"
   ]
  },
  {
   "cell_type": "code",
   "execution_count": 7,
   "metadata": {},
   "outputs": [
    {
     "name": "stderr",
     "output_type": "stream",
     "text": [
      "Auto-assigning NUTS sampler...\n",
      "Initializing NUTS using jitter+adapt_diag...\n",
      "Multiprocess sampling (4 chains in 4 jobs)\n",
      "NUTS: [a]\n"
     ]
    },
    {
     "data": {
      "text/html": [
       "\n",
       "    <div>\n",
       "        <style>\n",
       "            /* Turns off some styling */\n",
       "            progress {\n",
       "                /* gets rid of default border in Firefox and Opera. */\n",
       "                border: none;\n",
       "                /* Needs to be in here for Safari polyfill so background images work as expected. */\n",
       "                background-size: auto;\n",
       "            }\n",
       "            .progress-bar-interrupted, .progress-bar-interrupted::-webkit-progress-bar {\n",
       "                background: #F44336;\n",
       "            }\n",
       "        </style>\n",
       "      <progress value='8000' class='' max='8000' style='width:300px; height:20px; vertical-align: middle;'></progress>\n",
       "      100.00% [8000/8000 00:02<00:00 Sampling 4 chains, 0 divergences]\n",
       "    </div>\n",
       "    "
      ],
      "text/plain": [
       "<IPython.core.display.HTML object>"
      ]
     },
     "metadata": {},
     "output_type": "display_data"
    },
    {
     "name": "stderr",
     "output_type": "stream",
     "text": [
      "Sampling 4 chains for 1_000 tune and 1_000 draw iterations (4_000 + 4_000 draws total) took 12 seconds.\n"
     ]
    }
   ],
   "source": [
    "# simple model\n",
    "\n",
    "with pm.Model() as m_6_0:\n",
    "\n",
    "    a = pm.Normal('a', 0, 1.5, shape=n_tanks)\n",
    "    p = pm.math.invlogit(a[tank])\n",
    "\n",
    "    S = pm.Binomial(\"S\", n=df.density, p=p, observed=df.surv)\n",
    "    trace_6_0 = pm.sample()"
   ]
  },
  {
   "cell_type": "markdown",
   "metadata": {},
   "source": [
    "Model definition \n",
    "\n",
    "\\begin{split}\\begin{aligned}\n",
    "S_i  &\\sim Binomial(N_i, p_i) \\\\\n",
    "logit(p_i) &= \\alpha_T[_i] \\\\\n",
    "\\alpha_j &\\sim Normal(\\bar{\\alpha}, \\sigma) \\\\\n",
    "\\bar{\\alpha} &\\sim Normal(0, 1.5) \\\\\n",
    "\\sigma &\\sim Exponential(1) \\\\\n",
    "\n",
    "\n",
    "\\end{aligned}\\end{split}\n",
    "\n",
    "\n"
   ]
  },
  {
   "cell_type": "code",
   "execution_count": 8,
   "metadata": {},
   "outputs": [
    {
     "name": "stderr",
     "output_type": "stream",
     "text": [
      "Auto-assigning NUTS sampler...\n",
      "Initializing NUTS using jitter+adapt_diag...\n",
      "Multiprocess sampling (4 chains in 4 jobs)\n",
      "NUTS: [a, sigma, a_bar]\n"
     ]
    },
    {
     "data": {
      "text/html": [
       "\n",
       "    <div>\n",
       "        <style>\n",
       "            /* Turns off some styling */\n",
       "            progress {\n",
       "                /* gets rid of default border in Firefox and Opera. */\n",
       "                border: none;\n",
       "                /* Needs to be in here for Safari polyfill so background images work as expected. */\n",
       "                background-size: auto;\n",
       "            }\n",
       "            .progress-bar-interrupted, .progress-bar-interrupted::-webkit-progress-bar {\n",
       "                background: #F44336;\n",
       "            }\n",
       "        </style>\n",
       "      <progress value='8000' class='' max='8000' style='width:300px; height:20px; vertical-align: middle;'></progress>\n",
       "      100.00% [8000/8000 00:02<00:00 Sampling 4 chains, 0 divergences]\n",
       "    </div>\n",
       "    "
      ],
      "text/plain": [
       "<IPython.core.display.HTML object>"
      ]
     },
     "metadata": {},
     "output_type": "display_data"
    },
    {
     "name": "stderr",
     "output_type": "stream",
     "text": [
      "Sampling 4 chains for 1_000 tune and 1_000 draw iterations (4_000 + 4_000 draws total) took 12 seconds.\n"
     ]
    }
   ],
   "source": [
    "# basic multi-level model\n",
    "with pm.Model() as m_6_1:\n",
    "    a_bar = pm.Normal(\"a_bar\", 0.0, 1.5)\n",
    "    sigma = pm.Exponential(\"sigma\", 1.0)\n",
    "\n",
    "    a = pm.Normal('a', a_bar, sigma, shape=n_tanks)\n",
    "    p = pm.math.invlogit(a[tank])\n",
    "\n",
    "    S = pm.Binomial(\"S\", n=df.density, p=p, observed=df.surv)\n",
    "    trace_6_1 = pm.sample()\n"
   ]
  },
  {
   "cell_type": "code",
   "execution_count": 9,
   "metadata": {},
   "outputs": [
    {
     "name": "stderr",
     "output_type": "stream",
     "text": [
      "Got error No model on context stack. trying to find log_likelihood in translation.\n",
      "Got error No model on context stack. trying to find log_likelihood in translation.\n"
     ]
    },
    {
     "data": {
      "text/html": [
       "<div>\n",
       "<style scoped>\n",
       "    .dataframe tbody tr th:only-of-type {\n",
       "        vertical-align: middle;\n",
       "    }\n",
       "\n",
       "    .dataframe tbody tr th {\n",
       "        vertical-align: top;\n",
       "    }\n",
       "\n",
       "    .dataframe thead th {\n",
       "        text-align: right;\n",
       "    }\n",
       "</style>\n",
       "<table border=\"1\" class=\"dataframe\">\n",
       "  <thead>\n",
       "    <tr style=\"text-align: right;\">\n",
       "      <th></th>\n",
       "      <th>rank</th>\n",
       "      <th>waic</th>\n",
       "      <th>p_waic</th>\n",
       "      <th>d_waic</th>\n",
       "      <th>weight</th>\n",
       "      <th>se</th>\n",
       "      <th>dse</th>\n",
       "      <th>warning</th>\n",
       "      <th>waic_scale</th>\n",
       "    </tr>\n",
       "  </thead>\n",
       "  <tbody>\n",
       "    <tr>\n",
       "      <th>m6_1</th>\n",
       "      <td>0</td>\n",
       "      <td>-100.324619</td>\n",
       "      <td>21.085133</td>\n",
       "      <td>0.000000</td>\n",
       "      <td>1.0</td>\n",
       "      <td>3.618523</td>\n",
       "      <td>0.000000</td>\n",
       "      <td>True</td>\n",
       "      <td>log</td>\n",
       "    </tr>\n",
       "    <tr>\n",
       "      <th>m6_0</th>\n",
       "      <td>1</td>\n",
       "      <td>-107.030934</td>\n",
       "      <td>25.331602</td>\n",
       "      <td>6.706314</td>\n",
       "      <td>0.0</td>\n",
       "      <td>2.313575</td>\n",
       "      <td>1.799487</td>\n",
       "      <td>True</td>\n",
       "      <td>log</td>\n",
       "    </tr>\n",
       "  </tbody>\n",
       "</table>\n",
       "</div>"
      ],
      "text/plain": [
       "      rank        waic     p_waic    d_waic  weight        se       dse  \\\n",
       "m6_1     0 -100.324619  21.085133  0.000000     1.0  3.618523  0.000000   \n",
       "m6_0     1 -107.030934  25.331602  6.706314     0.0  2.313575  1.799487   \n",
       "\n",
       "      warning waic_scale  \n",
       "m6_1     True        log  \n",
       "m6_0     True        log  "
      ]
     },
     "execution_count": 9,
     "metadata": {},
     "output_type": "execute_result"
    }
   ],
   "source": [
    "#compare simple and multi-level model\n",
    "az.compare({\"m6_0\": trace_6_0, \"m6_1\": trace_6_1},'waic')\n"
   ]
  },
  {
   "cell_type": "markdown",
   "metadata": {},
   "source": [
    "## A) Simulate priors for different sigma values directly from the model"
   ]
  },
  {
   "cell_type": "code",
   "execution_count": 10,
   "metadata": {},
   "outputs": [],
   "source": [
    "prior_pred_dict = dict()\n",
    "exp_values = [0.1, 1, 10]\n",
    "models = ['one', 'two', 'three']\n",
    "tank = df.index\n",
    "\n",
    "for x, m in zip(exp_values, models):\n",
    "    with pm.Model() as m:\n",
    "        a_bar = pm.Normal(\"a_bar\", 0.0, 1.5)\n",
    "        sigma = pm.Exponential(\"sigma\", x)\n",
    "\n",
    "        a = pm.Normal('a', a_bar, sigma, shape=n_tanks)\n",
    "        p = pm.Deterministic('p', pm.math.invlogit(a[tank]))\n",
    "\n",
    "        S = pm.Binomial(\"S\", n=df.density, p=p, observed=df.surv)\n",
    "        prior = pm.sample_prior_predictive(1000, var_names=['a'])\n",
    "\n",
    "        prior_pred_dict[x] = prior\n"
   ]
  },
  {
   "cell_type": "code",
   "execution_count": 11,
   "metadata": {},
   "outputs": [
    {
     "data": {
      "text/plain": [
       "Text(0.5, 1.0, 'prob distribution for different sigma values')"
      ]
     },
     "execution_count": 11,
     "metadata": {},
     "output_type": "execute_result"
    },
    {
     "data": {
      "image/png": "[encoded data removed]",
      "text/plain": [
       "<Figure size 864x288 with 2 Axes>"
      ]
     },
     "metadata": {
      "needs_background": "light"
     },
     "output_type": "display_data"
    }
   ],
   "source": [
    "fig, (ax1, ax2) = plt.subplots(1,2, figsize=(12, 4))\n",
    "\n",
    "for x in exp_values:\n",
    "    prior_pred_a = prior_pred_dict[x]['a'][:,0]\n",
    "\n",
    "    sns.kdeplot(prior_pred_a, ax=ax1)\n",
    "ax1.legend(exp_values, title='lambda') \n",
    "ax1.set(title='log prob distribution for different sigma values', xlim=(-10, 10))\n",
    "\n",
    "for x in exp_values:\n",
    "    sns.kdeplot(expit(prior_pred_dict[x]['a'][:,0]), ax=ax2)\n",
    "ax2.legend(exp_values, title='lambda')\n",
    "\n",
    "ax2.set_title('prob distribution for different sigma values')"
   ]
  },
  {
   "cell_type": "code",
   "execution_count": 12,
   "metadata": {},
   "outputs": [
    {
     "data": {
      "image/png": "[encoded data removed]",
      "text/plain": [
       "<Figure size 864x288 with 3 Axes>"
      ]
     },
     "metadata": {
      "needs_background": "light"
     },
     "output_type": "display_data"
    }
   ],
   "source": [
    "#check shape of exponential priors on sigma\n",
    "\n",
    "fig, (ax1, ax2, ax3) = plt.subplots(1, 3, figsize=(12, 4))\n",
    "\n",
    "exp_values = [0.1, 1, 10]\n",
    "axes = [ax1, ax2, ax3]\n",
    "x = np.linspace(-20, 20, 1000)\n",
    "for ax, exp in zip(axes, exp_values):\n",
    "    y = stats.expon.pdf(x, scale=1/exp)\n",
    "    ax.plot(x, y)\n",
    "    ax.set(title= 'Lambda = {}'.format(exp))\n",
    "\n"
   ]
  },
  {
   "cell_type": "markdown",
   "metadata": {},
   "source": [
    "The higher the lambda value, the more the distribution is concentrated near zero."
   ]
  },
  {
   "cell_type": "markdown",
   "metadata": {},
   "source": [
    "## B) Simulate priors manually to double-check"
   ]
  },
  {
   "cell_type": "code",
   "execution_count": 13,
   "metadata": {},
   "outputs": [
    {
     "data": {
      "text/plain": [
       "<matplotlib.legend.Legend at 0x7fc753cc52e0>"
      ]
     },
     "execution_count": 13,
     "metadata": {},
     "output_type": "execute_result"
    },
    {
     "data": {
      "image/png": "[encoded data removed]",
      "text/plain": [
       "<Figure size 864x288 with 2 Axes>"
      ]
     },
     "metadata": {
      "needs_background": "light"
     },
     "output_type": "display_data"
    }
   ],
   "source": [
    "exp_values = [0.1, 1, 10]\n",
    "n = 10000\n",
    "\n",
    "f, (ax1, ax2) = plt.subplots(1, 2, figsize=(12, 4))\n",
    "for x in exp_values:\n",
    "    a_bar = stats.norm.rvs(0, 1.5, size=n)\n",
    "    sigma = stats.expon.rvs(1/x, size=n)\n",
    "\n",
    "    a = stats.norm.rvs(a_bar, sigma, size=n)\n",
    "    sns.kdeplot(a, ax=ax1, label=f'{x}')\n",
    "\n",
    "    sns.kdeplot(expit(a), ax=ax2, label=f'{x}')\n",
    "\n",
    "ax1.set(title='log prob distribution', xlim=(-10, 10))\n",
    "ax1.legend(title='lambda')\n",
    "\n",
    "ax2.set(title='prob distribution')\n",
    "\n",
    "ax2.legend(title='lambda')\n"
   ]
  },
  {
   "cell_type": "markdown",
   "metadata": {},
   "source": [
    "Conclusion: small lambda parameters lead to almost uniform distributions on the log probability scale. When transformed to probability, such a wide distribution leads to most of probability being concentrated on the extreme ends, suggesting that either extermely low or extremely high probability is most probable. This is not the desired behaviour, therefore lambda values of 1 or 10 are much more suitable as a prior for sigma."
   ]
  },
  {
   "cell_type": "markdown",
   "metadata": {},
   "source": [
    "# Ex. 2"
   ]
  },
  {
   "cell_type": "markdown",
   "metadata": {},
   "source": [
    "Revisit the Reedfrog survival data, data(reedfrogs). \n",
    "- Start with the varying effects model from the book and lecture. \n",
    "- Then modify it to estimate the causal effects of the treatment variables pred and size, including how size might modify the effect of predation. \n",
    "\n",
    "An easy approach is to estimate an effect for each combination of pred and size. Justify your model with a DAG of this experiment."
   ]
  },
  {
   "cell_type": "markdown",
   "metadata": {},
   "source": [
    "Varying effects model definition \n",
    "\n",
    "\\begin{split}\\begin{aligned}\n",
    "S_i  &\\sim Binomial(N_i, p_i) \\\\\n",
    "logit(p_i) &= \\alpha_T[_i] \\\\\n",
    "\\alpha_j &\\sim Normal(\\bar{\\alpha}, \\sigma) \\\\\n",
    "\\bar{\\alpha} &\\sim Normal(0, 1.5) \\\\\n",
    "\\sigma &\\sim Exponential(1) \\\\\n",
    "\n",
    "\n",
    "\\end{aligned}\\end{split}\n"
   ]
  },
  {
   "cell_type": "code",
   "execution_count": 49,
   "metadata": {},
   "outputs": [
    {
     "name": "stdout",
     "output_type": "stream",
     "text": [
      "(48, 5)\n"
     ]
    },
    {
     "data": {
      "text/html": [
       "<div>\n",
       "<style scoped>\n",
       "    .dataframe tbody tr th:only-of-type {\n",
       "        vertical-align: middle;\n",
       "    }\n",
       "\n",
       "    .dataframe tbody tr th {\n",
       "        vertical-align: top;\n",
       "    }\n",
       "\n",
       "    .dataframe thead th {\n",
       "        text-align: right;\n",
       "    }\n",
       "</style>\n",
       "<table border=\"1\" class=\"dataframe\">\n",
       "  <thead>\n",
       "    <tr style=\"text-align: right;\">\n",
       "      <th></th>\n",
       "      <th>density</th>\n",
       "      <th>pred</th>\n",
       "      <th>size</th>\n",
       "      <th>surv</th>\n",
       "      <th>propsurv</th>\n",
       "    </tr>\n",
       "  </thead>\n",
       "  <tbody>\n",
       "    <tr>\n",
       "      <th>0</th>\n",
       "      <td>10</td>\n",
       "      <td>no</td>\n",
       "      <td>big</td>\n",
       "      <td>9</td>\n",
       "      <td>0.9</td>\n",
       "    </tr>\n",
       "    <tr>\n",
       "      <th>1</th>\n",
       "      <td>10</td>\n",
       "      <td>no</td>\n",
       "      <td>big</td>\n",
       "      <td>10</td>\n",
       "      <td>1.0</td>\n",
       "    </tr>\n",
       "    <tr>\n",
       "      <th>2</th>\n",
       "      <td>10</td>\n",
       "      <td>no</td>\n",
       "      <td>big</td>\n",
       "      <td>7</td>\n",
       "      <td>0.7</td>\n",
       "    </tr>\n",
       "    <tr>\n",
       "      <th>3</th>\n",
       "      <td>10</td>\n",
       "      <td>no</td>\n",
       "      <td>big</td>\n",
       "      <td>10</td>\n",
       "      <td>1.0</td>\n",
       "    </tr>\n",
       "    <tr>\n",
       "      <th>4</th>\n",
       "      <td>10</td>\n",
       "      <td>no</td>\n",
       "      <td>small</td>\n",
       "      <td>9</td>\n",
       "      <td>0.9</td>\n",
       "    </tr>\n",
       "  </tbody>\n",
       "</table>\n",
       "</div>"
      ],
      "text/plain": [
       "   density pred   size  surv  propsurv\n",
       "0       10   no    big     9       0.9\n",
       "1       10   no    big    10       1.0\n",
       "2       10   no    big     7       0.7\n",
       "3       10   no    big    10       1.0\n",
       "4       10   no  small     9       0.9"
      ]
     },
     "execution_count": 49,
     "metadata": {},
     "output_type": "execute_result"
    }
   ],
   "source": [
    "print(df.shape)\n",
    "df.head()"
   ]
  },
  {
   "cell_type": "code",
   "execution_count": 50,
   "metadata": {},
   "outputs": [
    {
     "name": "stderr",
     "output_type": "stream",
     "text": [
      "Auto-assigning NUTS sampler...\n",
      "Initializing NUTS using jitter+adapt_diag...\n",
      "Multiprocess sampling (4 chains in 4 jobs)\n",
      "NUTS: [a, sigma, a_bar]\n"
     ]
    },
    {
     "data": {
      "text/html": [
       "\n",
       "    <div>\n",
       "        <style>\n",
       "            /* Turns off some styling */\n",
       "            progress {\n",
       "                /* gets rid of default border in Firefox and Opera. */\n",
       "                border: none;\n",
       "                /* Needs to be in here for Safari polyfill so background images work as expected. */\n",
       "                background-size: auto;\n",
       "            }\n",
       "            .progress-bar-interrupted, .progress-bar-interrupted::-webkit-progress-bar {\n",
       "                background: #F44336;\n",
       "            }\n",
       "        </style>\n",
       "      <progress value='8000' class='' max='8000' style='width:300px; height:20px; vertical-align: middle;'></progress>\n",
       "      100.00% [8000/8000 00:02<00:00 Sampling 4 chains, 0 divergences]\n",
       "    </div>\n",
       "    "
      ],
      "text/plain": [
       "<IPython.core.display.HTML object>"
      ]
     },
     "metadata": {},
     "output_type": "display_data"
    },
    {
     "name": "stderr",
     "output_type": "stream",
     "text": [
      "Sampling 4 chains for 1_000 tune and 1_000 draw iterations (4_000 + 4_000 draws total) took 12 seconds.\n"
     ]
    }
   ],
   "source": [
    "# basic multi-level model\n",
    "with pm.Model() as m_6_2:\n",
    "    a_bar = pm.Normal(\"a_bar\", 0.0, 1.5)\n",
    "    sigma = pm.Exponential(\"sigma\", 1.0)\n",
    "\n",
    "    a = pm.Normal('a', a_bar, sigma, shape=n_tanks)\n",
    "    p = pm.math.invlogit(a[tank])\n",
    "\n",
    "    S = pm.Binomial(\"S\", n=df.density, p=p, observed=df.surv)\n",
    "    trace_6_2 = pm.sample()\n"
   ]
  },
  {
   "cell_type": "code",
   "execution_count": 129,
   "metadata": {},
   "outputs": [
    {
     "name": "stderr",
     "output_type": "stream",
     "text": [
      "Got error No model on context stack. trying to find log_likelihood in translation.\n"
     ]
    },
    {
     "data": {
      "text/html": [
       "<div>\n",
       "<style scoped>\n",
       "    .dataframe tbody tr th:only-of-type {\n",
       "        vertical-align: middle;\n",
       "    }\n",
       "\n",
       "    .dataframe tbody tr th {\n",
       "        vertical-align: top;\n",
       "    }\n",
       "\n",
       "    .dataframe thead th {\n",
       "        text-align: right;\n",
       "    }\n",
       "</style>\n",
       "<table border=\"1\" class=\"dataframe\">\n",
       "  <thead>\n",
       "    <tr style=\"text-align: right;\">\n",
       "      <th></th>\n",
       "      <th>mean</th>\n",
       "      <th>sd</th>\n",
       "      <th>hdi_3%</th>\n",
       "      <th>hdi_97%</th>\n",
       "      <th>mcse_mean</th>\n",
       "      <th>mcse_sd</th>\n",
       "      <th>ess_bulk</th>\n",
       "      <th>ess_tail</th>\n",
       "      <th>r_hat</th>\n",
       "    </tr>\n",
       "  </thead>\n",
       "  <tbody>\n",
       "    <tr>\n",
       "      <th>a_bar</th>\n",
       "      <td>1.344</td>\n",
       "      <td>0.255</td>\n",
       "      <td>0.881</td>\n",
       "      <td>1.825</td>\n",
       "      <td>0.004</td>\n",
       "      <td>0.003</td>\n",
       "      <td>5133.0</td>\n",
       "      <td>3463.0</td>\n",
       "      <td>1.0</td>\n",
       "    </tr>\n",
       "    <tr>\n",
       "      <th>sigma</th>\n",
       "      <td>1.615</td>\n",
       "      <td>0.213</td>\n",
       "      <td>1.251</td>\n",
       "      <td>2.037</td>\n",
       "      <td>0.004</td>\n",
       "      <td>0.003</td>\n",
       "      <td>3177.0</td>\n",
       "      <td>3303.0</td>\n",
       "      <td>1.0</td>\n",
       "    </tr>\n",
       "  </tbody>\n",
       "</table>\n",
       "</div>"
      ],
      "text/plain": [
       "        mean     sd  hdi_3%  hdi_97%  mcse_mean  mcse_sd  ess_bulk  ess_tail  \\\n",
       "a_bar  1.344  0.255   0.881    1.825      0.004    0.003    5133.0    3463.0   \n",
       "sigma  1.615  0.213   1.251    2.037      0.004    0.003    3177.0    3303.0   \n",
       "\n",
       "       r_hat  \n",
       "a_bar    1.0  \n",
       "sigma    1.0  "
      ]
     },
     "execution_count": 129,
     "metadata": {},
     "output_type": "execute_result"
    }
   ],
   "source": [
    "az.summary(trace_6_2, var_names=['a_bar', 'sigma'])"
   ]
  },
  {
   "cell_type": "code",
   "execution_count": 125,
   "metadata": {},
   "outputs": [],
   "source": [
    "#extract hdis for each datapoint\n",
    "hdi_low = []\n",
    "hdi_high = []\n",
    "for x in tank:\n",
    "    y = az.hdi(expit(trace_6_2['a'][:,x]))[0]\n",
    "    z = az.hdi(expit(trace_6_2['a'][:,x]))[1]\n",
    "    hdi_low.append(y)\n",
    "    hdi_high.append(z)\n",
    "\n"
   ]
  },
  {
   "cell_type": "code",
   "execution_count": 155,
   "metadata": {},
   "outputs": [
    {
     "data": {
      "image/png": "[encoded data removed]",
      "text/plain": [
       "<Figure size 576x432 with 1 Axes>"
      ]
     },
     "metadata": {
      "needs_background": "light"
     },
     "output_type": "display_data"
    }
   ],
   "source": [
    "#visualize data and HDIs\n",
    "\n",
    "fig, ax = plt.subplots(figsize=(8, 6))\n",
    "\n",
    "ax.scatter(tank, df.propsurv) #real data\n",
    "\n",
    "for x in tank:\n",
    "    ax.scatter(x, expit(trace_6_2['a'][:,x]).mean(), color='r', alpha=0.4) # mean predictions\n",
    "\n",
    "\n",
    "for x, lower, upper in zip(tank, hdi_low, hdi_high):\n",
    "    ax.plot((x, x), (lower, upper), color='r', alpha=0.2)\n",
    "\n",
    "ax.set(title='M_6_2: Data, predicted values and HDIs for survival probability',xlabel='tank',ylabel='probability of survival');"
   ]
  },
  {
   "cell_type": "code",
   "execution_count": 120,
   "metadata": {},
   "outputs": [],
   "source": [
    "df = df.rename(columns={'size':'size_'})\n",
    "\n",
    "pred_id = pd.factorize(df.pred)[0]\n",
    "pred_idx = pd.factorize(df.pred)[1]\n",
    "\n",
    "size_id = pd.factorize(df.size_)[0]\n",
    "size_idx = pd.factorize(df.size_)[1]\n",
    "\n",
    "df.dens_s = standardize(df.density)"
   ]
  },
  {
   "cell_type": "code",
   "execution_count": 136,
   "metadata": {},
   "outputs": [
    {
     "data": {
      "text/plain": [
       "2"
      ]
     },
     "execution_count": 136,
     "metadata": {},
     "output_type": "execute_result"
    }
   ],
   "source": [
    "len(size_idx)"
   ]
  },
  {
   "cell_type": "code",
   "execution_count": 137,
   "metadata": {},
   "outputs": [
    {
     "name": "stderr",
     "output_type": "stream",
     "text": [
      "Auto-assigning NUTS sampler...\n",
      "Initializing NUTS using jitter+adapt_diag...\n",
      "Multiprocess sampling (4 chains in 4 jobs)\n",
      "NUTS: [a, b, sigma, a_bar]\n"
     ]
    },
    {
     "data": {
      "text/html": [
       "\n",
       "    <div>\n",
       "        <style>\n",
       "            /* Turns off some styling */\n",
       "            progress {\n",
       "                /* gets rid of default border in Firefox and Opera. */\n",
       "                border: none;\n",
       "                /* Needs to be in here for Safari polyfill so background images work as expected. */\n",
       "                background-size: auto;\n",
       "            }\n",
       "            .progress-bar-interrupted, .progress-bar-interrupted::-webkit-progress-bar {\n",
       "                background: #F44336;\n",
       "            }\n",
       "        </style>\n",
       "      <progress value='8000' class='' max='8000' style='width:300px; height:20px; vertical-align: middle;'></progress>\n",
       "      100.00% [8000/8000 00:03<00:00 Sampling 4 chains, 0 divergences]\n",
       "    </div>\n",
       "    "
      ],
      "text/plain": [
       "<IPython.core.display.HTML object>"
      ]
     },
     "metadata": {},
     "output_type": "display_data"
    },
    {
     "name": "stderr",
     "output_type": "stream",
     "text": [
      "Sampling 4 chains for 1_000 tune and 1_000 draw iterations (4_000 + 4_000 draws total) took 13 seconds.\n",
      "The number of effective samples is smaller than 25% for some parameters.\n"
     ]
    }
   ],
   "source": [
    "#adding predators and size to the previous model\n",
    "with pm.Model() as m_6_2b:\n",
    "    a_bar = pm.Normal(\"a_bar\", 0.0, 1.5)\n",
    "    sigma = pm.Exponential(\"sigma\", 1.0)\n",
    "\n",
    "    b = pm.Normal('b', 0, 0.5, shape=(len(pred_idx), len(size_idx))) # matrix for each combination of predator and size\n",
    "    a = pm.Normal('a', a_bar, sigma, shape=len(tank))\n",
    "    \n",
    "    p = pm.math.invlogit(a[tank] + b[pred_id, size_id])\n",
    "\n",
    "    S = pm.Binomial(\"S\", n=df.density, p=p, observed=df.surv)\n",
    "\n",
    "    trace_6_2b = pm.sample()\n"
   ]
  },
  {
   "cell_type": "code",
   "execution_count": 138,
   "metadata": {},
   "outputs": [
    {
     "name": "stderr",
     "output_type": "stream",
     "text": [
      "Got error No model on context stack. trying to find log_likelihood in translation.\n"
     ]
    },
    {
     "data": {
      "text/html": [
       "<div>\n",
       "<style scoped>\n",
       "    .dataframe tbody tr th:only-of-type {\n",
       "        vertical-align: middle;\n",
       "    }\n",
       "\n",
       "    .dataframe tbody tr th {\n",
       "        vertical-align: top;\n",
       "    }\n",
       "\n",
       "    .dataframe thead th {\n",
       "        text-align: right;\n",
       "    }\n",
       "</style>\n",
       "<table border=\"1\" class=\"dataframe\">\n",
       "  <thead>\n",
       "    <tr style=\"text-align: right;\">\n",
       "      <th></th>\n",
       "      <th>mean</th>\n",
       "      <th>sd</th>\n",
       "      <th>hdi_3%</th>\n",
       "      <th>hdi_97%</th>\n",
       "      <th>mcse_mean</th>\n",
       "      <th>mcse_sd</th>\n",
       "      <th>ess_bulk</th>\n",
       "      <th>ess_tail</th>\n",
       "      <th>r_hat</th>\n",
       "    </tr>\n",
       "  </thead>\n",
       "  <tbody>\n",
       "    <tr>\n",
       "      <th>a_bar</th>\n",
       "      <td>1.24</td>\n",
       "      <td>0.30</td>\n",
       "      <td>0.65</td>\n",
       "      <td>1.78</td>\n",
       "      <td>0.01</td>\n",
       "      <td>0.01</td>\n",
       "      <td>449.73</td>\n",
       "      <td>665.92</td>\n",
       "      <td>1.01</td>\n",
       "    </tr>\n",
       "    <tr>\n",
       "      <th>b[0, 0]</th>\n",
       "      <td>1.06</td>\n",
       "      <td>0.36</td>\n",
       "      <td>0.38</td>\n",
       "      <td>1.73</td>\n",
       "      <td>0.01</td>\n",
       "      <td>0.01</td>\n",
       "      <td>776.50</td>\n",
       "      <td>1307.07</td>\n",
       "      <td>1.00</td>\n",
       "    </tr>\n",
       "    <tr>\n",
       "      <th>b[0, 1]</th>\n",
       "      <td>0.97</td>\n",
       "      <td>0.35</td>\n",
       "      <td>0.29</td>\n",
       "      <td>1.62</td>\n",
       "      <td>0.01</td>\n",
       "      <td>0.01</td>\n",
       "      <td>751.98</td>\n",
       "      <td>1611.52</td>\n",
       "      <td>1.00</td>\n",
       "    </tr>\n",
       "    <tr>\n",
       "      <th>b[1, 0]</th>\n",
       "      <td>-1.28</td>\n",
       "      <td>0.35</td>\n",
       "      <td>-1.95</td>\n",
       "      <td>-0.65</td>\n",
       "      <td>0.01</td>\n",
       "      <td>0.01</td>\n",
       "      <td>644.04</td>\n",
       "      <td>1222.90</td>\n",
       "      <td>1.00</td>\n",
       "    </tr>\n",
       "    <tr>\n",
       "      <th>b[1, 1]</th>\n",
       "      <td>-0.57</td>\n",
       "      <td>0.34</td>\n",
       "      <td>-1.19</td>\n",
       "      <td>0.08</td>\n",
       "      <td>0.01</td>\n",
       "      <td>0.01</td>\n",
       "      <td>521.31</td>\n",
       "      <td>1125.51</td>\n",
       "      <td>1.01</td>\n",
       "    </tr>\n",
       "    <tr>\n",
       "      <th>sigma</th>\n",
       "      <td>0.82</td>\n",
       "      <td>0.16</td>\n",
       "      <td>0.52</td>\n",
       "      <td>1.13</td>\n",
       "      <td>0.01</td>\n",
       "      <td>0.00</td>\n",
       "      <td>878.13</td>\n",
       "      <td>1394.68</td>\n",
       "      <td>1.00</td>\n",
       "    </tr>\n",
       "  </tbody>\n",
       "</table>\n",
       "</div>"
      ],
      "text/plain": [
       "         mean    sd  hdi_3%  hdi_97%  mcse_mean  mcse_sd  ess_bulk  ess_tail  \\\n",
       "a_bar    1.24  0.30    0.65     1.78       0.01     0.01    449.73    665.92   \n",
       "b[0, 0]  1.06  0.36    0.38     1.73       0.01     0.01    776.50   1307.07   \n",
       "b[0, 1]  0.97  0.35    0.29     1.62       0.01     0.01    751.98   1611.52   \n",
       "b[1, 0] -1.28  0.35   -1.95    -0.65       0.01     0.01    644.04   1222.90   \n",
       "b[1, 1] -0.57  0.34   -1.19     0.08       0.01     0.01    521.31   1125.51   \n",
       "sigma    0.82  0.16    0.52     1.13       0.01     0.00    878.13   1394.68   \n",
       "\n",
       "         r_hat  \n",
       "a_bar     1.01  \n",
       "b[0, 0]   1.00  \n",
       "b[0, 1]   1.00  \n",
       "b[1, 0]   1.00  \n",
       "b[1, 1]   1.01  \n",
       "sigma     1.00  "
      ]
     },
     "execution_count": 138,
     "metadata": {},
     "output_type": "execute_result"
    }
   ],
   "source": [
    "pm.summary(trace_6_2b,round_to=2, var_names=['a_bar', 'b', 'sigma'])"
   ]
  },
  {
   "cell_type": "markdown",
   "metadata": {},
   "source": [
    "We observe that:\n",
    "- presence of predators has a strong negative effect on survival probability (due to the low beta parameter value)\n",
    "- extent of predator effect also depends on the size (predator effect is less negative for smaller tanks)\n",
    "- adding predators to the model decreased the sigma value (since a substantial part in the variation between the individual tanks can be explained by presence/absence of predators and the size variable)"
   ]
  },
  {
   "cell_type": "code",
   "execution_count": 148,
   "metadata": {},
   "outputs": [],
   "source": [
    "#visualize\n",
    "#extract hdis for each datapoint\n",
    "hdi_low = []\n",
    "hdi_high = []\n",
    "for x, p, s in zip(tank, pred_id, size_id):\n",
    "    y = az.hdi(expit(trace_6_2b['a'][:,x] + trace_6_2b['b'][:,p][:,s]))[0]\n",
    "    z = az.hdi(expit(trace_6_2b['a'][:,x] + trace_6_2b['b'][:,p][:,s]))[1]\n",
    "    hdi_low.append(y)\n",
    "    hdi_high.append(z)"
   ]
  },
  {
   "cell_type": "code",
   "execution_count": 151,
   "metadata": {},
   "outputs": [
    {
     "data": {
      "image/png": "[encoded data removed]",
      "text/plain": [
       "<Figure size 576x432 with 1 Axes>"
      ]
     },
     "metadata": {
      "needs_background": "light"
     },
     "output_type": "display_data"
    }
   ],
   "source": [
    "#visualize data and HDIs\n",
    "\n",
    "fig, ax = plt.subplots(figsize=(8,6))\n",
    "\n",
    "ax.scatter(tank, df.propsurv) #real data\n",
    "\n",
    "for x, p, s in zip(tank, pred_id, size_id):\n",
    "    ax.scatter(x, expit(trace_6_2b['a'][:,x] + trace_6_2b['b'][:,p][:,s]).mean(), color='r', alpha=0.4) # mean predictions\n",
    "\n",
    "\n",
    "for x, lower, upper in zip(tank, hdi_low, hdi_high):\n",
    "    ax.plot((x, x), (lower, upper), color='r', alpha=0.2)\n",
    "\n",
    "ax.set(title='Model 6_2b: Data, predicted values and HDIs for survival probability',xlabel='tank',ylabel='probability of survival');"
   ]
  },
  {
   "cell_type": "code",
   "execution_count": 152,
   "metadata": {},
   "outputs": [
    {
     "name": "stderr",
     "output_type": "stream",
     "text": [
      "Got error No model on context stack. trying to find log_likelihood in translation.\n",
      "Got error No model on context stack. trying to find log_likelihood in translation.\n"
     ]
    },
    {
     "data": {
      "text/html": [
       "<div>\n",
       "<style scoped>\n",
       "    .dataframe tbody tr th:only-of-type {\n",
       "        vertical-align: middle;\n",
       "    }\n",
       "\n",
       "    .dataframe tbody tr th {\n",
       "        vertical-align: top;\n",
       "    }\n",
       "\n",
       "    .dataframe thead th {\n",
       "        text-align: right;\n",
       "    }\n",
       "</style>\n",
       "<table border=\"1\" class=\"dataframe\">\n",
       "  <thead>\n",
       "    <tr style=\"text-align: right;\">\n",
       "      <th></th>\n",
       "      <th>rank</th>\n",
       "      <th>waic</th>\n",
       "      <th>p_waic</th>\n",
       "      <th>d_waic</th>\n",
       "      <th>weight</th>\n",
       "      <th>se</th>\n",
       "      <th>dse</th>\n",
       "      <th>warning</th>\n",
       "      <th>waic_scale</th>\n",
       "    </tr>\n",
       "  </thead>\n",
       "  <tbody>\n",
       "    <tr>\n",
       "      <th>m6_2b</th>\n",
       "      <td>0</td>\n",
       "      <td>-99.496086</td>\n",
       "      <td>19.055211</td>\n",
       "      <td>0.000000</td>\n",
       "      <td>0.58705</td>\n",
       "      <td>4.144502</td>\n",
       "      <td>0.000000</td>\n",
       "      <td>True</td>\n",
       "      <td>log</td>\n",
       "    </tr>\n",
       "    <tr>\n",
       "      <th>m6_2</th>\n",
       "      <td>1</td>\n",
       "      <td>-99.702422</td>\n",
       "      <td>20.633588</td>\n",
       "      <td>0.206336</td>\n",
       "      <td>0.41295</td>\n",
       "      <td>3.613268</td>\n",
       "      <td>2.359026</td>\n",
       "      <td>True</td>\n",
       "      <td>log</td>\n",
       "    </tr>\n",
       "  </tbody>\n",
       "</table>\n",
       "</div>"
      ],
      "text/plain": [
       "       rank       waic     p_waic    d_waic   weight        se       dse  \\\n",
       "m6_2b     0 -99.496086  19.055211  0.000000  0.58705  4.144502  0.000000   \n",
       "m6_2      1 -99.702422  20.633588  0.206336  0.41295  3.613268  2.359026   \n",
       "\n",
       "       warning waic_scale  \n",
       "m6_2b     True        log  \n",
       "m6_2      True        log  "
      ]
     },
     "execution_count": 152,
     "metadata": {},
     "output_type": "execute_result"
    }
   ],
   "source": [
    "az.compare({\"m6_2\": trace_6_2, \"m6_2b\": trace_6_2b},'waic')\n"
   ]
  },
  {
   "cell_type": "markdown",
   "metadata": {},
   "source": [
    "# Ex. 3"
   ]
  },
  {
   "cell_type": "markdown",
   "metadata": {},
   "source": [
    "Now estimate the causal effect of density on survival. Consider whether pred modifies the effect of density. There are several good ways to include density in your Binomial GLM. You could treat it as a continuous regression variable (possibly standardized). Or you could convert it to an ordered category (with three levels). Compare the σ (tank standard deviation) posterior distribution to σ from your model in Problem 2. How are they different? Why?"
   ]
  },
  {
   "cell_type": "code",
   "execution_count": 156,
   "metadata": {},
   "outputs": [
    {
     "name": "stderr",
     "output_type": "stream",
     "text": [
      "Auto-assigning NUTS sampler...\n",
      "Initializing NUTS using jitter+adapt_diag...\n",
      "Multiprocess sampling (4 chains in 4 jobs)\n",
      "NUTS: [a, b, sigma, a_bar]\n"
     ]
    },
    {
     "data": {
      "text/html": [
       "\n",
       "    <div>\n",
       "        <style>\n",
       "            /* Turns off some styling */\n",
       "            progress {\n",
       "                /* gets rid of default border in Firefox and Opera. */\n",
       "                border: none;\n",
       "                /* Needs to be in here for Safari polyfill so background images work as expected. */\n",
       "                background-size: auto;\n",
       "            }\n",
       "            .progress-bar-interrupted, .progress-bar-interrupted::-webkit-progress-bar {\n",
       "                background: #F44336;\n",
       "            }\n",
       "        </style>\n",
       "      <progress value='8000' class='' max='8000' style='width:300px; height:20px; vertical-align: middle;'></progress>\n",
       "      100.00% [8000/8000 00:02<00:00 Sampling 4 chains, 0 divergences]\n",
       "    </div>\n",
       "    "
      ],
      "text/plain": [
       "<IPython.core.display.HTML object>"
      ]
     },
     "metadata": {},
     "output_type": "display_data"
    },
    {
     "name": "stderr",
     "output_type": "stream",
     "text": [
      "Sampling 4 chains for 1_000 tune and 1_000 draw iterations (4_000 + 4_000 draws total) took 12 seconds.\n",
      "The number of effective samples is smaller than 25% for some parameters.\n"
     ]
    }
   ],
   "source": [
    "#adding density to the varying effects model\n",
    "with pm.Model() as m_6_3:\n",
    "    a_bar = pm.Normal(\"a_bar\", 0.0, 1.5)\n",
    "    sigma = pm.Exponential(\"sigma\", 1.0)\n",
    "\n",
    "    b = pm.Normal('b', 0, 0.5)\n",
    "    \n",
    "    a = pm.Normal('a', a_bar, sigma, shape=len(tank))\n",
    "    \n",
    "    p = pm.math.invlogit(a[tank] + b*df.dens_s)\n",
    "\n",
    "    S = pm.Binomial(\"S\", n=df.density, p=p, observed=df.surv)\n",
    "\n",
    "    trace_6_3 = pm.sample()\n"
   ]
  },
  {
   "cell_type": "code",
   "execution_count": 182,
   "metadata": {},
   "outputs": [
    {
     "name": "stderr",
     "output_type": "stream",
     "text": [
      "Got error No model on context stack. trying to find log_likelihood in translation.\n"
     ]
    },
    {
     "data": {
      "text/html": [
       "<div>\n",
       "<style scoped>\n",
       "    .dataframe tbody tr th:only-of-type {\n",
       "        vertical-align: middle;\n",
       "    }\n",
       "\n",
       "    .dataframe tbody tr th {\n",
       "        vertical-align: top;\n",
       "    }\n",
       "\n",
       "    .dataframe thead th {\n",
       "        text-align: right;\n",
       "    }\n",
       "</style>\n",
       "<table border=\"1\" class=\"dataframe\">\n",
       "  <thead>\n",
       "    <tr style=\"text-align: right;\">\n",
       "      <th></th>\n",
       "      <th>mean</th>\n",
       "      <th>sd</th>\n",
       "      <th>hdi_3%</th>\n",
       "      <th>hdi_97%</th>\n",
       "      <th>mcse_mean</th>\n",
       "      <th>mcse_sd</th>\n",
       "      <th>ess_bulk</th>\n",
       "      <th>ess_tail</th>\n",
       "      <th>r_hat</th>\n",
       "    </tr>\n",
       "  </thead>\n",
       "  <tbody>\n",
       "    <tr>\n",
       "      <th>a_bar</th>\n",
       "      <td>1.36</td>\n",
       "      <td>0.26</td>\n",
       "      <td>0.86</td>\n",
       "      <td>1.84</td>\n",
       "      <td>0.00</td>\n",
       "      <td>0.00</td>\n",
       "      <td>3880.47</td>\n",
       "      <td>2990.18</td>\n",
       "      <td>1.0</td>\n",
       "    </tr>\n",
       "    <tr>\n",
       "      <th>b</th>\n",
       "      <td>-0.21</td>\n",
       "      <td>0.23</td>\n",
       "      <td>-0.64</td>\n",
       "      <td>0.24</td>\n",
       "      <td>0.01</td>\n",
       "      <td>0.01</td>\n",
       "      <td>713.21</td>\n",
       "      <td>1250.81</td>\n",
       "      <td>1.0</td>\n",
       "    </tr>\n",
       "    <tr>\n",
       "      <th>sigma</th>\n",
       "      <td>1.62</td>\n",
       "      <td>0.22</td>\n",
       "      <td>1.22</td>\n",
       "      <td>2.01</td>\n",
       "      <td>0.00</td>\n",
       "      <td>0.00</td>\n",
       "      <td>2485.10</td>\n",
       "      <td>2915.42</td>\n",
       "      <td>1.0</td>\n",
       "    </tr>\n",
       "  </tbody>\n",
       "</table>\n",
       "</div>"
      ],
      "text/plain": [
       "       mean    sd  hdi_3%  hdi_97%  mcse_mean  mcse_sd  ess_bulk  ess_tail  \\\n",
       "a_bar  1.36  0.26    0.86     1.84       0.00     0.00   3880.47   2990.18   \n",
       "b     -0.21  0.23   -0.64     0.24       0.01     0.01    713.21   1250.81   \n",
       "sigma  1.62  0.22    1.22     2.01       0.00     0.00   2485.10   2915.42   \n",
       "\n",
       "       r_hat  \n",
       "a_bar    1.0  \n",
       "b        1.0  \n",
       "sigma    1.0  "
      ]
     },
     "execution_count": 182,
     "metadata": {},
     "output_type": "execute_result"
    }
   ],
   "source": [
    "pm.summary(trace_6_3,round_to=2, var_names=['a_bar', 'b','sigma'])"
   ]
  },
  {
   "cell_type": "code",
   "execution_count": 178,
   "metadata": {},
   "outputs": [
    {
     "name": "stderr",
     "output_type": "stream",
     "text": [
      "Auto-assigning NUTS sampler...\n",
      "Initializing NUTS using jitter+adapt_diag...\n",
      "Multiprocess sampling (4 chains in 4 jobs)\n",
      "NUTS: [a, b_D, b_P, sigma, a_bar]\n"
     ]
    },
    {
     "data": {
      "text/html": [
       "\n",
       "    <div>\n",
       "        <style>\n",
       "            /* Turns off some styling */\n",
       "            progress {\n",
       "                /* gets rid of default border in Firefox and Opera. */\n",
       "                border: none;\n",
       "                /* Needs to be in here for Safari polyfill so background images work as expected. */\n",
       "                background-size: auto;\n",
       "            }\n",
       "            .progress-bar-interrupted, .progress-bar-interrupted::-webkit-progress-bar {\n",
       "                background: #F44336;\n",
       "            }\n",
       "        </style>\n",
       "      <progress value='8000' class='' max='8000' style='width:300px; height:20px; vertical-align: middle;'></progress>\n",
       "      100.00% [8000/8000 00:04<00:00 Sampling 4 chains, 1 divergences]\n",
       "    </div>\n",
       "    "
      ],
      "text/plain": [
       "<IPython.core.display.HTML object>"
      ]
     },
     "metadata": {},
     "output_type": "display_data"
    },
    {
     "name": "stderr",
     "output_type": "stream",
     "text": [
      "Sampling 4 chains for 1_000 tune and 1_000 draw iterations (4_000 + 4_000 draws total) took 13 seconds.\n",
      "There was 1 divergence after tuning. Increase `target_accept` or reparameterize.\n",
      "The number of effective samples is smaller than 10% for some parameters.\n"
     ]
    }
   ],
   "source": [
    "#adding density and predators as additive terms to the varying effects model\n",
    "\n",
    "with pm.Model() as m_6_3b:\n",
    "    a_bar = pm.Normal(\"a_bar\", 0.0, 1.5)\n",
    "    sigma = pm.Exponential(\"sigma\", 1.0)\n",
    "\n",
    "    b_P = pm.Normal('b_P', 0, 0.5,shape=len(pred_idx))\n",
    "    b_D = pm.Normal('b_D', 0, 0.5)\n",
    "\n",
    "    a = pm.Normal('a', a_bar, sigma, shape=len(tank))\n",
    "    \n",
    "    p = pm.math.invlogit(a[tank] + b_P[pred_id] + b_D*df.dens_s)\n",
    "\n",
    "    S = pm.Binomial(\"S\", n=df.density, p=p, observed=df.surv)\n",
    "\n",
    "    trace_6_3b = pm.sample()"
   ]
  },
  {
   "cell_type": "code",
   "execution_count": 183,
   "metadata": {},
   "outputs": [
    {
     "name": "stderr",
     "output_type": "stream",
     "text": [
      "Got error No model on context stack. trying to find log_likelihood in translation.\n"
     ]
    },
    {
     "data": {
      "text/html": [
       "<div>\n",
       "<style scoped>\n",
       "    .dataframe tbody tr th:only-of-type {\n",
       "        vertical-align: middle;\n",
       "    }\n",
       "\n",
       "    .dataframe tbody tr th {\n",
       "        vertical-align: top;\n",
       "    }\n",
       "\n",
       "    .dataframe thead th {\n",
       "        text-align: right;\n",
       "    }\n",
       "</style>\n",
       "<table border=\"1\" class=\"dataframe\">\n",
       "  <thead>\n",
       "    <tr style=\"text-align: right;\">\n",
       "      <th></th>\n",
       "      <th>mean</th>\n",
       "      <th>sd</th>\n",
       "      <th>hdi_3%</th>\n",
       "      <th>hdi_97%</th>\n",
       "      <th>mcse_mean</th>\n",
       "      <th>mcse_sd</th>\n",
       "      <th>ess_bulk</th>\n",
       "      <th>ess_tail</th>\n",
       "      <th>r_hat</th>\n",
       "    </tr>\n",
       "  </thead>\n",
       "  <tbody>\n",
       "    <tr>\n",
       "      <th>a_bar</th>\n",
       "      <td>1.288</td>\n",
       "      <td>0.394</td>\n",
       "      <td>0.552</td>\n",
       "      <td>1.996</td>\n",
       "      <td>0.022</td>\n",
       "      <td>0.016</td>\n",
       "      <td>326.0</td>\n",
       "      <td>594.0</td>\n",
       "      <td>1.01</td>\n",
       "    </tr>\n",
       "    <tr>\n",
       "      <th>b_P[0]</th>\n",
       "      <td>1.190</td>\n",
       "      <td>0.394</td>\n",
       "      <td>0.386</td>\n",
       "      <td>1.860</td>\n",
       "      <td>0.020</td>\n",
       "      <td>0.014</td>\n",
       "      <td>402.0</td>\n",
       "      <td>756.0</td>\n",
       "      <td>1.01</td>\n",
       "    </tr>\n",
       "    <tr>\n",
       "      <th>b_P[1]</th>\n",
       "      <td>-1.064</td>\n",
       "      <td>0.395</td>\n",
       "      <td>-1.775</td>\n",
       "      <td>-0.336</td>\n",
       "      <td>0.021</td>\n",
       "      <td>0.015</td>\n",
       "      <td>356.0</td>\n",
       "      <td>755.0</td>\n",
       "      <td>1.01</td>\n",
       "    </tr>\n",
       "    <tr>\n",
       "      <th>b_D</th>\n",
       "      <td>-0.228</td>\n",
       "      <td>0.157</td>\n",
       "      <td>-0.534</td>\n",
       "      <td>0.061</td>\n",
       "      <td>0.004</td>\n",
       "      <td>0.002</td>\n",
       "      <td>1977.0</td>\n",
       "      <td>1737.0</td>\n",
       "      <td>1.00</td>\n",
       "    </tr>\n",
       "    <tr>\n",
       "      <th>sigma</th>\n",
       "      <td>0.815</td>\n",
       "      <td>0.146</td>\n",
       "      <td>0.523</td>\n",
       "      <td>1.061</td>\n",
       "      <td>0.004</td>\n",
       "      <td>0.003</td>\n",
       "      <td>1105.0</td>\n",
       "      <td>1505.0</td>\n",
       "      <td>1.00</td>\n",
       "    </tr>\n",
       "  </tbody>\n",
       "</table>\n",
       "</div>"
      ],
      "text/plain": [
       "         mean     sd  hdi_3%  hdi_97%  mcse_mean  mcse_sd  ess_bulk  ess_tail  \\\n",
       "a_bar   1.288  0.394   0.552    1.996      0.022    0.016     326.0     594.0   \n",
       "b_P[0]  1.190  0.394   0.386    1.860      0.020    0.014     402.0     756.0   \n",
       "b_P[1] -1.064  0.395  -1.775   -0.336      0.021    0.015     356.0     755.0   \n",
       "b_D    -0.228  0.157  -0.534    0.061      0.004    0.002    1977.0    1737.0   \n",
       "sigma   0.815  0.146   0.523    1.061      0.004    0.003    1105.0    1505.0   \n",
       "\n",
       "        r_hat  \n",
       "a_bar    1.01  \n",
       "b_P[0]   1.01  \n",
       "b_P[1]   1.01  \n",
       "b_D      1.00  \n",
       "sigma    1.00  "
      ]
     },
     "execution_count": 183,
     "metadata": {},
     "output_type": "execute_result"
    }
   ],
   "source": [
    "az.summary(trace_6_3b, var_names=['a_bar','b_P','b_D', 'sigma'])"
   ]
  },
  {
   "cell_type": "code",
   "execution_count": 186,
   "metadata": {},
   "outputs": [],
   "source": [
    "#compare sigma (tank standard deviation) for problems 2 and 3\n",
    "\n",
    "traces = [trace_6_2, trace_6_2b, trace_6_3, trace_6_3b]\n",
    "labels = [\"varying effects\", \"pred and size (interactive)\", \"density\", \"pred and density (additive)\"]"
   ]
  },
  {
   "cell_type": "code",
   "execution_count": 187,
   "metadata": {},
   "outputs": [
    {
     "data": {
      "text/plain": [
       "<matplotlib.legend.Legend at 0x7ffb53a1c280>"
      ]
     },
     "execution_count": 187,
     "metadata": {},
     "output_type": "execute_result"
    },
    {
     "data": {
      "image/png": "[encoded data removed]",
      "text/plain": [
       "<Figure size 576x288 with 1 Axes>"
      ]
     },
     "metadata": {
      "needs_background": "light"
     },
     "output_type": "display_data"
    }
   ],
   "source": [
    "fig, ax = plt.subplots(figsize=(8,4))\n",
    "\n",
    "for i, trace in enumerate(traces):\n",
    "    sigma = trace['sigma']\n",
    "    sns.kdeplot(sigma,ax=ax, label=labels[i])\n",
    "\n",
    "ax.legend()    "
   ]
  },
  {
   "cell_type": "markdown",
   "metadata": {},
   "source": [
    "Conclusion: \n",
    "Density does not explain the variation in tanks as well as presence of predator does."
   ]
  },
  {
   "cell_type": "code",
   "execution_count": 188,
   "metadata": {},
   "outputs": [
    {
     "name": "stderr",
     "output_type": "stream",
     "text": [
      "Got error No model on context stack. trying to find log_likelihood in translation.\n",
      "Got error No model on context stack. trying to find log_likelihood in translation.\n",
      "Got error No model on context stack. trying to find log_likelihood in translation.\n",
      "Got error No model on context stack. trying to find log_likelihood in translation.\n"
     ]
    },
    {
     "data": {
      "text/html": [
       "<div>\n",
       "<style scoped>\n",
       "    .dataframe tbody tr th:only-of-type {\n",
       "        vertical-align: middle;\n",
       "    }\n",
       "\n",
       "    .dataframe tbody tr th {\n",
       "        vertical-align: top;\n",
       "    }\n",
       "\n",
       "    .dataframe thead th {\n",
       "        text-align: right;\n",
       "    }\n",
       "</style>\n",
       "<table border=\"1\" class=\"dataframe\">\n",
       "  <thead>\n",
       "    <tr style=\"text-align: right;\">\n",
       "      <th></th>\n",
       "      <th>rank</th>\n",
       "      <th>waic</th>\n",
       "      <th>p_waic</th>\n",
       "      <th>d_waic</th>\n",
       "      <th>weight</th>\n",
       "      <th>se</th>\n",
       "      <th>dse</th>\n",
       "      <th>warning</th>\n",
       "      <th>waic_scale</th>\n",
       "    </tr>\n",
       "  </thead>\n",
       "  <tbody>\n",
       "    <tr>\n",
       "      <th>6_3b</th>\n",
       "      <td>0</td>\n",
       "      <td>-99.174052</td>\n",
       "      <td>18.946984</td>\n",
       "      <td>0.000000</td>\n",
       "      <td>0.622519</td>\n",
       "      <td>4.540410</td>\n",
       "      <td>0.000000</td>\n",
       "      <td>True</td>\n",
       "      <td>log</td>\n",
       "    </tr>\n",
       "    <tr>\n",
       "      <th>6_2b</th>\n",
       "      <td>1</td>\n",
       "      <td>-99.496086</td>\n",
       "      <td>19.055211</td>\n",
       "      <td>0.322034</td>\n",
       "      <td>0.000000</td>\n",
       "      <td>4.144502</td>\n",
       "      <td>1.637061</td>\n",
       "      <td>True</td>\n",
       "      <td>log</td>\n",
       "    </tr>\n",
       "    <tr>\n",
       "      <th>6_2</th>\n",
       "      <td>2</td>\n",
       "      <td>-99.702422</td>\n",
       "      <td>20.633588</td>\n",
       "      <td>0.528370</td>\n",
       "      <td>0.377481</td>\n",
       "      <td>3.613268</td>\n",
       "      <td>2.681481</td>\n",
       "      <td>True</td>\n",
       "      <td>log</td>\n",
       "    </tr>\n",
       "    <tr>\n",
       "      <th>6_3</th>\n",
       "      <td>3</td>\n",
       "      <td>-100.097415</td>\n",
       "      <td>21.008868</td>\n",
       "      <td>0.923363</td>\n",
       "      <td>0.000000</td>\n",
       "      <td>3.731240</td>\n",
       "      <td>2.623804</td>\n",
       "      <td>True</td>\n",
       "      <td>log</td>\n",
       "    </tr>\n",
       "  </tbody>\n",
       "</table>\n",
       "</div>"
      ],
      "text/plain": [
       "      rank        waic     p_waic    d_waic    weight        se       dse  \\\n",
       "6_3b     0  -99.174052  18.946984  0.000000  0.622519  4.540410  0.000000   \n",
       "6_2b     1  -99.496086  19.055211  0.322034  0.000000  4.144502  1.637061   \n",
       "6_2      2  -99.702422  20.633588  0.528370  0.377481  3.613268  2.681481   \n",
       "6_3      3 -100.097415  21.008868  0.923363  0.000000  3.731240  2.623804   \n",
       "\n",
       "      warning waic_scale  \n",
       "6_3b     True        log  \n",
       "6_2b     True        log  \n",
       "6_2      True        log  \n",
       "6_3      True        log  "
      ]
     },
     "execution_count": 188,
     "metadata": {},
     "output_type": "execute_result"
    }
   ],
   "source": [
    "az.compare({'6_2': trace_6_2, '6_2b': trace_6_2b, '6_3':trace_6_3, '6_3b':trace_6_3b},'waic')"
   ]
  },
  {
   "cell_type": "code",
   "execution_count": null,
   "metadata": {},
   "outputs": [],
   "source": []
  }
 ],
 "metadata": {
  "interpreter": {
   "hash": "6f90b4276c590783c7a07511109bf4719a0a3e6c83f54b45385e5346de3d0c98"
  },
  "kernelspec": {
   "display_name": "Python 3.9.7 ('pymc3_env')",
   "language": "python",
   "name": "python3"
  },
  "language_info": {
   "codemirror_mode": {
    "name": "ipython",
    "version": 3
   },
   "file_extension": ".py",
   "mimetype": "text/x-python",
   "name": "python",
   "nbconvert_exporter": "python",
   "pygments_lexer": "ipython3",
   "version": "3.9.7"
  },
  "orig_nbformat": 4
 },
 "nbformat": 4,
 "nbformat_minor": 2
}
